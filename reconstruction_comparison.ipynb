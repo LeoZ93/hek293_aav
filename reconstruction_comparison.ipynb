{
 "cells": [
  {
   "cell_type": "code",
   "execution_count": 1,
   "id": "62dcf721-22e3-4bf7-bb6d-3d9062978e62",
   "metadata": {
    "tags": []
   },
   "outputs": [],
   "source": [
    "import pandas as pd\n",
    "import cobra\n",
    "from cobra.io import read_sbml_model\n",
    "from cobra import Model, Reaction, Metabolite"
   ]
  },
  {
   "cell_type": "code",
   "execution_count": 2,
   "id": "92d0f4ba-012e-48e3-85a3-4f9ab8ead662",
   "metadata": {
    "tags": []
   },
   "outputs": [],
   "source": [
    "input_rxns = \"/home/users/lzehetner/data/paper4_aav/HEK_Dietmair/reaction_matrix.csv\"\n",
    "rxns_matrix = pd.read_csv(input_rxns, sep = \",\")"
   ]
  },
  {
   "cell_type": "code",
   "execution_count": 3,
   "id": "9b4dc463-2346-4272-a3b1-6e24ffd82356",
   "metadata": {
    "tags": []
   },
   "outputs": [],
   "source": [
    "input_model = \"/home/users/lzehetner/data/human1/human1.xml\"\n",
    "model = cobra.io.read_sbml_model(input_model)"
   ]
  },
  {
   "cell_type": "code",
   "execution_count": 4,
   "id": "9912bce4-da1b-45ca-adea-a5132fb069e7",
   "metadata": {
    "tags": []
   },
   "outputs": [],
   "source": [
    "model.solver = 'cplex'"
   ]
  },
  {
   "cell_type": "code",
   "execution_count": 5,
   "id": "2d0d0bac-1be8-48f8-b91b-3225c00a49bd",
   "metadata": {
    "tags": []
   },
   "outputs": [],
   "source": [
    "rxns_matrix = rxns_matrix.set_index(rxns_matrix.columns[0])"
   ]
  },
  {
   "cell_type": "code",
   "execution_count": 6,
   "id": "e398d98c-2e0f-4288-8014-664ce67adf47",
   "metadata": {
    "tags": []
   },
   "outputs": [],
   "source": [
    "rxns_matrix = rxns_matrix.loc[~(rxns_matrix == 0).all(axis=1)]"
   ]
  },
  {
   "cell_type": "code",
   "execution_count": 7,
   "id": "219208ef-9799-46bd-a572-3a85af514aba",
   "metadata": {
    "tags": []
   },
   "outputs": [],
   "source": [
    "count_rows_all_ones = (rxns_matrix == 1).all(axis=1).sum()"
   ]
  },
  {
   "cell_type": "code",
   "execution_count": 15,
   "id": "00c427f2-2c2c-4b6c-812f-cec6c9b5a6da",
   "metadata": {
    "tags": []
   },
   "outputs": [
    {
     "data": {
      "text/plain": [
       "3815"
      ]
     },
     "execution_count": 15,
     "metadata": {},
     "output_type": "execute_result"
    }
   ],
   "source": [
    "## core reactions accross all are: 3815\n",
    "## therefore 1503 differential reactions"
   ]
  },
  {
   "cell_type": "code",
   "execution_count": 8,
   "id": "d1dbdff9-1c18-41d6-8c98-d3c511895f91",
   "metadata": {
    "tags": []
   },
   "outputs": [],
   "source": [
    "pan_rxns = rxns_matrix.index.tolist()"
   ]
  },
  {
   "cell_type": "code",
   "execution_count": 9,
   "id": "7eba00de-751a-4e8a-a269-61e1150e3950",
   "metadata": {
    "tags": []
   },
   "outputs": [],
   "source": [
    "pan_rxns.append([\"MAR09438\", \"MAR09012\", \"MAR09013\"])"
   ]
  },
  {
   "cell_type": "code",
   "execution_count": 10,
   "id": "dcbe6cd7-f08c-44a7-aa26-79e42193d9a4",
   "metadata": {
    "tags": []
   },
   "outputs": [],
   "source": [
    "model_rxns = []\n",
    "for r in model.reactions:\n",
    "    model_rxns.append(r.id)"
   ]
  },
  {
   "cell_type": "code",
   "execution_count": 11,
   "id": "4269edd5-dd02-443d-9a43-2fa58cd5748e",
   "metadata": {
    "tags": []
   },
   "outputs": [],
   "source": [
    "rxns2remove = [item for item in model_rxns if item not in pan_rxns]"
   ]
  },
  {
   "cell_type": "code",
   "execution_count": 12,
   "id": "8a822d3b-90d4-4a6e-99d3-5a57bfe4265b",
   "metadata": {
    "tags": []
   },
   "outputs": [
    {
     "name": "stderr",
     "output_type": "stream",
     "text": [
      "/home/users/lzehetner/.conda/envs/HEK_human1/lib/python3.7/site-packages/cobra/core/group.py:107: UserWarning: need to pass in a list\n",
      "  warn(\"need to pass in a list\")\n"
     ]
    }
   ],
   "source": [
    "model.remove_reactions(rxns2remove)"
   ]
  },
  {
   "cell_type": "code",
   "execution_count": 13,
   "id": "7054da64-2b9a-4bad-996b-e202b7cbcf47",
   "metadata": {
    "tags": []
   },
   "outputs": [
    {
     "name": "stdout",
     "output_type": "stream",
     "text": [
      "86.48859171731132\n",
      "optimal\n"
     ]
    }
   ],
   "source": [
    "model.objective = \"MAR10024\"\n",
    "opt = model.optimize()\n",
    "print(opt.objective_value)\n",
    "print(opt.status)"
   ]
  },
  {
   "cell_type": "code",
   "execution_count": 14,
   "id": "c7e98100-627a-4ca3-bcb6-decbbbd45f23",
   "metadata": {
    "tags": []
   },
   "outputs": [],
   "source": [
    "for r in model.exchanges:\n",
    "    model.reactions.get_by_id(r.id).upper_bound = 1000.0\n",
    "    model.reactions.get_by_id(r.id).lower_bound = 0.0\n",
    "\n",
    "min_media_comp = [\n",
    "    \"MAR09061\",\n",
    "    \"MAR09034\",\n",
    "    \"MAR09035\",\n",
    "    \"MAR09036\",\n",
    "    \"MAR09038\",\n",
    "    \"MAR09039\",\n",
    "    \"MAR09040\",\n",
    "    \"MAR09041\",\n",
    "    \"MAR09042\",\n",
    "    \"MAR09043\",\n",
    "    \"MAR09044\",\n",
    "    \"MAR09045\",\n",
    "    \"MAR09046\",\n",
    "    \"MAR09047\",\n",
    "    \"MAR09048\",\n",
    "    \"MAR09062\",\n",
    "    \"MAR09063\",\n",
    "    \"MAR09064\",\n",
    "    \"MAR09065\",\n",
    "    \"MAR09066\",\n",
    "    \"MAR09068\",\n",
    "    \"MAR09069\",\n",
    "    \"MAR09076\",\n",
    "    \"MAR09146\",\n",
    "    \"MAR09109\",\n",
    "    \"MAR09143\",\n",
    "    \"MAR09144\",\n",
    "    \"MAR09147\",\n",
    "    \"MAR09150\",\n",
    "    \"MAR09151\",\n",
    "    \"MAR09153\",\n",
    "    \"MAR09158\",\n",
    "    \"MAR09159\",\n",
    "    \"MAR09167\",\n",
    "    \"MAR09269\",\n",
    "    \"MAR09072\",\n",
    "    \"MAR09145\",\n",
    "    \"MAR09070\",\n",
    "    \"MAR09071\",\n",
    "    \"MAR09067\",\n",
    "    \"MAR11420\",\n",
    "    \"MAR09135\"\n",
    "]\n",
    "\n",
    "for r in min_media_comp:\n",
    "    model.reactions.get_by_id(r).upper_bound = 1000.0\n",
    "    model.reactions.get_by_id(r).lower_bound = -1000.0"
   ]
  },
  {
   "cell_type": "code",
   "execution_count": 15,
   "id": "952d9a55-1b3a-4aac-88f5-48449677c9de",
   "metadata": {
    "tags": []
   },
   "outputs": [
    {
     "name": "stdout",
     "output_type": "stream",
     "text": [
      "35.907402491986204\n",
      "optimal\n"
     ]
    }
   ],
   "source": [
    "model.objective = \"MAR10024\"\n",
    "opt = model.optimize()\n",
    "print(opt.objective_value)\n",
    "print(opt.status)"
   ]
  },
  {
   "cell_type": "code",
   "execution_count": 16,
   "id": "2cc85ea3-d3c0-41d1-967d-7291600777a8",
   "metadata": {
    "tags": []
   },
   "outputs": [],
   "source": [
    "# non-producer Dietamir\n",
    "\n",
    "model.reactions.MAR09034.lower_bound = (-528 - 63) / 1000 # Glucose\n",
    "model.reactions.MAR09034.upper_bound = (-528 + 63) / 1000 # Glucose\n",
    "model.reactions.MAR09038.lower_bound = (-3.2 - 0.5) / 1000 # histidine\n",
    "model.reactions.MAR09038.upper_bound = (-3.2 + 0.5) / 1000 # histidine\n",
    "model.reactions.MAR09039.lower_bound = (-13 - 3) / 1000 # isoleucine\n",
    "model.reactions.MAR09039.upper_bound = (-13 + 3) / 1000 # isoleucine\n",
    "model.reactions.MAR09040.lower_bound = (-19 - 4) / 1000 # leucine\n",
    "model.reactions.MAR09040.upper_bound = (-19 + 4) / 1000 # leucine\n",
    "model.reactions.MAR09041.lower_bound = (-12 - 2) / 1000 # lysine\n",
    "model.reactions.MAR09041.upper_bound = (-12 + 2) / 1000 # lysine\n",
    "model.reactions.MAR09042.lower_bound = (-4.9 - 1.1) / 1000 # methionine\n",
    "model.reactions.MAR09042.upper_bound = (-4.9 + 1.1) / 1000 # methionine\n",
    "model.reactions.MAR09043.lower_bound = (-5.8 - 1.0) / 1000 # phe\n",
    "model.reactions.MAR09043.upper_bound = (-5.8 + 1.0) / 1000 # phe\n",
    "model.reactions.MAR09044.lower_bound = (-8.4 - 1.6) / 1000 # thr\n",
    "model.reactions.MAR09044.upper_bound = (-8.4 + 1.6) / 1000 # thr\n",
    "model.reactions.MAR09045.lower_bound = (-1.5 - 0.3) / 1000 # trp\n",
    "model.reactions.MAR09045.upper_bound = (-1.5 + 0.3) / 1000 # trp\n",
    "model.reactions.MAR09046.lower_bound = (-14 - 3) / 1000 # val\n",
    "model.reactions.MAR09046.upper_bound = (-14 + 3) / 1000 # val\n",
    "model.reactions.MAR09048.lower_bound = (-335 - 29) / 1000 # o2\n",
    "model.reactions.MAR09048.upper_bound = (-335 + 29) / 1000 # o2\n",
    "model.reactions.MAR09061.lower_bound = (11 - 17) / 1000 # Alanine    \n",
    "model.reactions.MAR09061.upper_bound = (11 + 17) / 1000 # Alanine \n",
    "model.reactions.MAR09062.lower_bound = (-4.1 - 1.0) / 1000 # asparagine\n",
    "model.reactions.MAR09062.upper_bound = (-4.1 + 1.0) / 1000 # asparagine\n",
    "model.reactions.MAR09063.lower_bound = (-29 - 17) / 1000 # glutamine\n",
    "model.reactions.MAR09063.upper_bound = (-29 + 17) / 1000 # glutamine\n",
    "model.reactions.MAR09064.lower_bound = (-4.6 - 0.7) / 1000 # tyrosine\n",
    "model.reactions.MAR09064.upper_bound = (-4.6 + 0.7) / 1000 # tyrosine\n",
    "model.reactions.MAR09065.lower_bound = -1000 # cysteine\n",
    "model.reactions.MAR09065.upper_bound = 1000 # cysteine\n",
    "model.reactions.MAR09066.lower_bound = (-16 - 3) / 1000 # arginine\n",
    "model.reactions.MAR09066.upper_bound = (-16 + 3) / 1000 # arginine\n",
    "model.reactions.MAR09067.lower_bound = (6.2 - 1.1) / 1000 # glycine    \n",
    "model.reactions.MAR09067.upper_bound = (6.2 + 1.1) / 1000 # glycine  \n",
    "model.reactions.MAR09068.lower_bound = (3.8 - 0.4) / 1000 # proline\n",
    "model.reactions.MAR09068.upper_bound = (3.8 + 0.4) / 1000 # proline\n",
    "model.reactions.MAR09069.lower_bound = (-37 - 6) / 1000 # serine\n",
    "model.reactions.MAR09069.upper_bound = (-37 + 6) / 1000 # serine\n",
    "model.reactions.MAR09070.lower_bound = (-6.3 - 1.6) / 1000 # aspartate\n",
    "model.reactions.MAR09070.upper_bound = (-6.3 + 1.6) / 1000 # aspartate\n",
    "model.reactions.MAR09071.lower_bound = (9.6 - 1.4) / 1000 # glutamate\n",
    "model.reactions.MAR09071.upper_bound = (9.6 + 1.4) / 1000 # glutamate\n",
    "model.reactions.MAR11420.lower_bound = (17 - 3) / 1000 # ammonia\n",
    "model.reactions.MAR11420.upper_bound = (17 + 3) / 1000 # ammonia\n",
    "model.reactions.MAR09135.lower_bound = (695 - 92) / 1000 # lactate\n",
    "model.reactions.MAR09135.upper_bound = (695 + 92) / 1000 # lactate\n",
    "model.reactions.MAR09087.lower_bound = (9 - 1.5) / 1000 # Ornithin\n",
    "model.reactions.MAR09087.upper_bound = (9 + 1.5) / 1000 # Ornithin"
   ]
  },
  {
   "cell_type": "code",
   "execution_count": 17,
   "id": "3310371b-c589-4a9d-b725-2a83730146d3",
   "metadata": {
    "tags": []
   },
   "outputs": [
    {
     "name": "stdout",
     "output_type": "stream",
     "text": [
      "0.01212285372675439\n",
      "optimal\n"
     ]
    }
   ],
   "source": [
    "model.objective = \"MAR10024\"\n",
    "opt = model.optimize()\n",
    "print(opt.objective_value)\n",
    "print(opt.status)"
   ]
  },
  {
   "cell_type": "code",
   "execution_count": 18,
   "id": "f45498e6-231f-4800-aec0-4e00d510a5ee",
   "metadata": {
    "tags": []
   },
   "outputs": [
    {
     "data": {
      "text/plain": [
       "5318"
      ]
     },
     "execution_count": 18,
     "metadata": {},
     "output_type": "execute_result"
    }
   ],
   "source": [
    "len(model.reactions)"
   ]
  },
  {
   "cell_type": "code",
   "execution_count": 21,
   "id": "a1656f7f-2163-4d9f-b95b-ce24dbe65baa",
   "metadata": {
    "tags": []
   },
   "outputs": [],
   "source": [
    "orphan_metabolites = [m for m in model.metabolites if len(m.reactions) == 0]\n",
    "model.remove_metabolites(orphan_metabolites)\n",
    "\n",
    "    # Remove orphan genes (not associated with any reactions)\n",
    "orphan_genes = [g for g in model.genes if len(g.reactions) == 0]\n",
    "model.genes = [g for g in model.genes if g not in orphan_genes]"
   ]
  },
  {
   "cell_type": "code",
   "execution_count": 22,
   "id": "a7a5a2cb-271b-4148-8de2-157d592f0ebd",
   "metadata": {
    "tags": []
   },
   "outputs": [
    {
     "data": {
      "text/plain": [
       "2659"
      ]
     },
     "execution_count": 22,
     "metadata": {},
     "output_type": "execute_result"
    }
   ],
   "source": [
    "len(model.genes)"
   ]
  },
  {
   "cell_type": "code",
   "execution_count": 23,
   "id": "3388bd48-e6d3-4ceb-85ee-9cbfbdb78f72",
   "metadata": {
    "tags": []
   },
   "outputs": [
    {
     "data": {
      "text/plain": [
       "3950"
      ]
     },
     "execution_count": 23,
     "metadata": {},
     "output_type": "execute_result"
    }
   ],
   "source": [
    "len(model.metabolites)"
   ]
  },
  {
   "cell_type": "code",
   "execution_count": null,
   "id": "59ae5e73-2056-4bb8-b90c-e8cbb1b02dac",
   "metadata": {},
   "outputs": [],
   "source": []
  },
  {
   "cell_type": "code",
   "execution_count": 52,
   "id": "b77d4101-2e6f-4122-8d2b-a04079b465e5",
   "metadata": {
    "tags": []
   },
   "outputs": [],
   "source": [
    "## other approach"
   ]
  },
  {
   "cell_type": "code",
   "execution_count": 24,
   "id": "04cc3b40-043d-432c-9f2a-845f1244efa0",
   "metadata": {
    "tags": []
   },
   "outputs": [],
   "source": [
    "mod = cobra.io.read_sbml_model(\"/home/users/lzehetner/data/human1/human1.xml\")\n",
    "mod.solver = 'cplex'"
   ]
  },
  {
   "cell_type": "code",
   "execution_count": 25,
   "id": "02b00028-5a37-4fd1-89cb-6c734f813c12",
   "metadata": {
    "tags": []
   },
   "outputs": [],
   "source": [
    "input_rxns = \"/home/users/lzehetner/data/paper3_hgf/HEK_Dietmair/combined.csv\"\n",
    "rxns_csv = pd.read_csv(input_rxns, sep = \",\", header = None)"
   ]
  },
  {
   "cell_type": "code",
   "execution_count": 26,
   "id": "f6964ed6-cbea-4527-a5ee-4dcea407b13d",
   "metadata": {
    "tags": []
   },
   "outputs": [],
   "source": [
    "model_rxns = []\n",
    "for r in mod.reactions:\n",
    "    model_rxns.append(r.id)\n",
    "\n",
    "rxns2remove = [item for item in model_rxns if item not in rxns_csv[0].values]\n",
    "mod.remove_reactions(rxns2remove)"
   ]
  },
  {
   "cell_type": "code",
   "execution_count": 27,
   "id": "5c6f787d-3f8a-41f6-ab55-afae3384edf6",
   "metadata": {
    "tags": []
   },
   "outputs": [
    {
     "name": "stdout",
     "output_type": "stream",
     "text": [
      "143.25389955389628\n",
      "optimal\n"
     ]
    }
   ],
   "source": [
    "mod.objective = \"MAR10024\"\n",
    "opt = mod.optimize()\n",
    "print(opt.objective_value)\n",
    "print(opt.status)"
   ]
  },
  {
   "cell_type": "code",
   "execution_count": 28,
   "id": "8cf380c5-4eb1-438d-bd8d-3b0cfaf220d1",
   "metadata": {
    "tags": []
   },
   "outputs": [],
   "source": [
    "for r in mod.exchanges:\n",
    "    mod.reactions.get_by_id(r.id).upper_bound = 1000.0\n",
    "    mod.reactions.get_by_id(r.id).lower_bound = 0.0\n",
    "\n",
    "min_media_comp = [\n",
    "    \"MAR09061\",\n",
    "    \"MAR09034\",\n",
    "    \"MAR09035\",\n",
    "    \"MAR09036\",\n",
    "    \"MAR09038\",\n",
    "    \"MAR09039\",\n",
    "    \"MAR09040\",\n",
    "    \"MAR09041\",\n",
    "    \"MAR09042\",\n",
    "    \"MAR09043\",\n",
    "    \"MAR09044\",\n",
    "    \"MAR09045\",\n",
    "    \"MAR09046\",\n",
    "    \"MAR09047\",\n",
    "    \"MAR09048\",\n",
    "    \"MAR09062\",\n",
    "    \"MAR09063\",\n",
    "    \"MAR09064\",\n",
    "    \"MAR09065\",\n",
    "    \"MAR09066\",\n",
    "    \"MAR09068\",\n",
    "    \"MAR09069\",\n",
    "    \"MAR09076\",\n",
    "    \"MAR09146\",\n",
    "    \"MAR09109\",\n",
    "    \"MAR09143\",\n",
    "    \"MAR09144\",\n",
    "    \"MAR09147\",\n",
    "    \"MAR09150\",\n",
    "    \"MAR09151\",\n",
    "    \"MAR09153\",\n",
    "    \"MAR09158\",\n",
    "    \"MAR09159\",\n",
    "    \"MAR09167\",\n",
    "    \"MAR09269\",\n",
    "    \"MAR09072\",\n",
    "    \"MAR09145\",\n",
    "    \"MAR09070\",\n",
    "    \"MAR09071\",\n",
    "    \"MAR09067\",\n",
    "    \"MAR11420\",\n",
    "    \"MAR09135\"\n",
    "]\n",
    "\n",
    "for r in min_media_comp:\n",
    "    mod.reactions.get_by_id(r).upper_bound = 1000.0\n",
    "    mod.reactions.get_by_id(r).lower_bound = -1000.0"
   ]
  },
  {
   "cell_type": "code",
   "execution_count": 29,
   "id": "2608b21b-f2a5-4163-a47b-b0f9fcc0f9b1",
   "metadata": {
    "tags": []
   },
   "outputs": [
    {
     "name": "stdout",
     "output_type": "stream",
     "text": [
      "54.9738333669876\n",
      "optimal\n"
     ]
    }
   ],
   "source": [
    "mod.objective = \"MAR10024\"\n",
    "opt = mod.optimize()\n",
    "print(opt.objective_value)\n",
    "print(opt.status)"
   ]
  },
  {
   "cell_type": "code",
   "execution_count": 30,
   "id": "a6d4e82f-5b8b-4ab1-b029-0f0ed8314227",
   "metadata": {
    "tags": []
   },
   "outputs": [],
   "source": [
    "# non-producer Dietamir\n",
    "\n",
    "mod.reactions.MAR09034.lower_bound = (-528 - 63) / 1000 # Glucose\n",
    "mod.reactions.MAR09034.upper_bound = (-528 + 63) / 1000 # Glucose\n",
    "mod.reactions.MAR09038.lower_bound = (-3.2 - 0.5) / 1000 # histidine\n",
    "mod.reactions.MAR09038.upper_bound = (-3.2 + 0.5) / 1000 # histidine\n",
    "mod.reactions.MAR09039.lower_bound = (-13 - 3) / 1000 # isoleucine\n",
    "mod.reactions.MAR09039.upper_bound = (-13 + 3) / 1000 # isoleucine\n",
    "mod.reactions.MAR09040.lower_bound = (-19 - 4) / 1000 # leucine\n",
    "mod.reactions.MAR09040.upper_bound = (-19 + 4) / 1000 # leucine\n",
    "mod.reactions.MAR09041.lower_bound = (-12 - 2) / 1000 # lysine\n",
    "mod.reactions.MAR09041.upper_bound = (-12 + 2) / 1000 # lysine\n",
    "mod.reactions.MAR09042.lower_bound = (-4.9 - 1.1) / 1000 # methionine\n",
    "mod.reactions.MAR09042.upper_bound = (-4.9 + 1.1) / 1000 # methionine\n",
    "mod.reactions.MAR09043.lower_bound = (-5.8 - 1.0) / 1000 # phe\n",
    "mod.reactions.MAR09043.upper_bound = (-5.8 + 1.0) / 1000 # phe\n",
    "mod.reactions.MAR09044.lower_bound = (-8.4 - 1.6) / 1000 # thr\n",
    "mod.reactions.MAR09044.upper_bound = (-8.4 + 1.6) / 1000 # thr\n",
    "mod.reactions.MAR09045.lower_bound = (-1.5 - 0.3) / 1000 # trp\n",
    "mod.reactions.MAR09045.upper_bound = (-1.5 + 0.3) / 1000 # trp\n",
    "mod.reactions.MAR09046.lower_bound = (-14 - 3) / 1000 # val\n",
    "mod.reactions.MAR09046.upper_bound = (-14 + 3) / 1000 # val\n",
    "mod.reactions.MAR09048.lower_bound = (-335 - 29) / 1000 # o2\n",
    "mod.reactions.MAR09048.upper_bound = (-335 + 29) / 1000 # o2\n",
    "mod.reactions.MAR09061.lower_bound = (11 - 17) / 1000 # Alanine    \n",
    "mod.reactions.MAR09061.upper_bound = (11 + 17) / 1000 # Alanine \n",
    "mod.reactions.MAR09062.lower_bound = (-4.1 - 1.0) / 1000 # asparagine\n",
    "mod.reactions.MAR09062.upper_bound = (-4.1 + 1.0) / 1000 # asparagine\n",
    "mod.reactions.MAR09063.lower_bound = (-29 - 17) / 1000 # glutamine\n",
    "mod.reactions.MAR09063.upper_bound = (-29 + 17) / 1000 # glutamine\n",
    "mod.reactions.MAR09064.lower_bound = (-4.6 - 0.7) / 1000 # tyrosine\n",
    "mod.reactions.MAR09064.upper_bound = (-4.6 + 0.7) / 1000 # tyrosine\n",
    "mod.reactions.MAR09065.lower_bound = -1000 # cysteine\n",
    "mod.reactions.MAR09065.upper_bound = 1000 # cysteine\n",
    "mod.reactions.MAR09066.lower_bound = (-16 - 3) / 1000 # arginine\n",
    "mod.reactions.MAR09066.upper_bound = (-16 + 3) / 1000 # arginine\n",
    "mod.reactions.MAR09067.lower_bound = (6.2 - 1.1) / 1000 # glycine    \n",
    "mod.reactions.MAR09067.upper_bound = (6.2 + 1.1) / 1000 # glycine  \n",
    "mod.reactions.MAR09068.lower_bound = (3.8 - 0.4) / 1000 # proline\n",
    "mod.reactions.MAR09068.upper_bound = (3.8 + 0.4) / 1000 # proline\n",
    "mod.reactions.MAR09069.lower_bound = (-37 - 6) / 1000 # serine\n",
    "mod.reactions.MAR09069.upper_bound = (-37 + 6) / 1000 # serine\n",
    "mod.reactions.MAR09070.lower_bound = (-6.3 - 1.6) / 1000 # aspartate\n",
    "mod.reactions.MAR09070.upper_bound = (-6.3 + 1.6) / 1000 # aspartate\n",
    "mod.reactions.MAR09071.lower_bound = (9.6 - 1.4) / 1000 # glutamate\n",
    "mod.reactions.MAR09071.upper_bound = (9.6 + 1.4) / 1000 # glutamate\n",
    "mod.reactions.MAR11420.lower_bound = (17 - 3) / 1000 # ammonia\n",
    "mod.reactions.MAR11420.upper_bound = (17 + 3) / 1000 # ammonia\n",
    "mod.reactions.MAR09135.lower_bound = (695 - 92) / 1000 # lactate\n",
    "mod.reactions.MAR09135.upper_bound = (695 + 92) / 1000 # lactate\n",
    "mod.reactions.MAR09087.lower_bound = (9 - 1.5) / 1000 # Ornithin\n",
    "mod.reactions.MAR09087.upper_bound = (9 + 1.5) / 1000 # Ornithin"
   ]
  },
  {
   "cell_type": "code",
   "execution_count": 31,
   "id": "68f1e3a5-96eb-4d7b-b075-616152087484",
   "metadata": {
    "tags": []
   },
   "outputs": [
    {
     "name": "stdout",
     "output_type": "stream",
     "text": [
      "0.030116706306606938\n",
      "optimal\n"
     ]
    }
   ],
   "source": [
    "mod.objective = \"MAR10024\"\n",
    "opt = mod.optimize()\n",
    "print(opt.objective_value)\n",
    "print(opt.status)"
   ]
  },
  {
   "cell_type": "code",
   "execution_count": 32,
   "id": "3b32e289-3965-4d9d-9776-9f1b039f79eb",
   "metadata": {
    "tags": []
   },
   "outputs": [],
   "source": [
    "orphan_metabolites = [m for m in mod.metabolites if len(m.reactions) == 0]\n",
    "mod.remove_metabolites(orphan_metabolites)\n",
    "\n",
    "    # Remove orphan genes (not associated with any reactions)\n",
    "orphan_genes = [g for g in mod.genes if len(g.reactions) == 0]\n",
    "mod.genes = [g for g in mod.genes if g not in orphan_genes]"
   ]
  },
  {
   "cell_type": "code",
   "execution_count": 33,
   "id": "90abda0e-f7c6-473a-a47a-cb42a8a5a463",
   "metadata": {
    "tags": []
   },
   "outputs": [
    {
     "data": {
      "text/plain": [
       "7740"
      ]
     },
     "execution_count": 33,
     "metadata": {},
     "output_type": "execute_result"
    }
   ],
   "source": [
    "len(mod.reactions)"
   ]
  },
  {
   "cell_type": "code",
   "execution_count": 34,
   "id": "cb8e79ac-c06d-4ab9-9fa8-1bae699c2edb",
   "metadata": {
    "tags": []
   },
   "outputs": [
    {
     "data": {
      "text/plain": [
       "5015"
      ]
     },
     "execution_count": 34,
     "metadata": {},
     "output_type": "execute_result"
    }
   ],
   "source": [
    "len(mod.metabolites)"
   ]
  },
  {
   "cell_type": "code",
   "execution_count": 35,
   "id": "195146ce-be1a-45cb-b434-0ba85e11f5ff",
   "metadata": {
    "tags": []
   },
   "outputs": [
    {
     "data": {
      "text/plain": [
       "3035"
      ]
     },
     "execution_count": 35,
     "metadata": {},
     "output_type": "execute_result"
    }
   ],
   "source": [
    "len(mod.genes)"
   ]
  },
  {
   "cell_type": "code",
   "execution_count": 131,
   "id": "b6d88c0c-d732-45b0-a915-e5cf442dfe70",
   "metadata": {
    "tags": []
   },
   "outputs": [
    {
     "data": {
      "text/plain": [
       "7740"
      ]
     },
     "execution_count": 131,
     "metadata": {},
     "output_type": "execute_result"
    }
   ],
   "source": [
    "## number of pan_reactions in our approach: 7740"
   ]
  }
 ],
 "metadata": {
  "kernelspec": {
   "display_name": "HEK_human1-python3.7-cplex",
   "language": "python",
   "name": "hek_human1"
  },
  "language_info": {
   "codemirror_mode": {
    "name": "ipython",
    "version": 3
   },
   "file_extension": ".py",
   "mimetype": "text/x-python",
   "name": "python",
   "nbconvert_exporter": "python",
   "pygments_lexer": "ipython3",
   "version": "3.7.11"
  }
 },
 "nbformat": 4,
 "nbformat_minor": 5
}
