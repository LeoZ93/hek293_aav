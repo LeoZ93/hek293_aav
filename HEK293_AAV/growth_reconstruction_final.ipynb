{
 "cells": [
  {
   "cell_type": "code",
   "execution_count": 1,
   "id": "4b22dc4d-2485-44df-a8b6-27a8e3542480",
   "metadata": {},
   "outputs": [],
   "source": [
    "import pandas as pd\n",
    "import numpy as np\n",
    "import cobra\n",
    "from Bio import SeqIO, Seq\n",
    "from Bio.SeqUtils.ProtParam import ProteinAnalysis\n",
    "from cobra import Model, Reaction, Metabolite\n",
    "from scipy.optimize import differential_evolution\n",
    "import matplotlib.pyplot as plt"
   ]
  },
  {
   "cell_type": "code",
   "execution_count": null,
   "id": "1172bb42-497f-460d-92cc-0c7988dff9e2",
   "metadata": {},
   "outputs": [],
   "source": [
    "## import binary datasets"
   ]
  },
  {
   "cell_type": "code",
   "execution_count": 2,
   "id": "a1c326e6-532b-44cc-825d-b6f07578e72a",
   "metadata": {
    "tags": []
   },
   "outputs": [],
   "source": [
    "reaction_matrix = pd.read_csv(\"/home/users/lzehetner/data/hek/reaction_matrix.csv\")"
   ]
  },
  {
   "cell_type": "code",
   "execution_count": 3,
   "id": "cd734722-6e3b-4f86-bfaf-a8dfa2dac57f",
   "metadata": {},
   "outputs": [],
   "source": [
    "I_T_04 = [\"lp_v1_tp2\", \"lp_v2_tp2\", \"lp_v3_tp2\", \"lp_v4_tp2\"]\n",
    "I_T_24 = [\"lp_v1_tp3\", \"lp_v2_tp3\", \"lp_v3_tp3\", \"lp_v4_tp3\"]\n",
    "I_T_48 = [\"lp_v1_tp4\", \"lp_v2_tp4\", \"lp_v3_tp4\", \"lp_v4_tp4\"]\n",
    "I_T_72 = [\"lp_v1_tp5\", \"lp_v2_tp5\", \"lp_v3_tp5\", \"lp_v4_tp5\"]\n",
    "\n",
    "I_M_04 = [\"lp_v5_tp2\", \"lp_v6_tp2\", \"lp_v7_tp2\", \"lp_v8_tp2\"]\n",
    "I_M_24 = [\"lp_v5_tp3\", \"lp_v6_tp3\", \"lp_v7_tp3\", \"lp_v8_tp3\"]\n",
    "I_M_48 = [\"lp_v5_tp4\", \"lp_v6_tp4\", \"lp_v7_tp4\", \"lp_v8_tp4\"]\n",
    "I_M_72 = [\"lp_v5_tp5\", \"lp_v6_tp5\", \"lp_v7_tp5\", \"lp_v8_tp5\"]\n",
    "\n",
    "P_T_04 = [\"hp_v1_tp2\", \"hp_v2_tp2\", \"hp_v3_tp2\", \"hp_v4_tp2\"]\n",
    "P_T_24 = [\"hp_v1_tp3\", \"hp_v2_tp3\", \"hp_v3_tp3\", \"hp_v4_tp3\"]\n",
    "P_T_48 = [\"hp_v1_tp4\", \"hp_v2_tp4\", \"hp_v3_tp4\", \"hp_v4_tp4\"]\n",
    "P_T_72 = [\"hp_v1_tp5\", \"hp_v2_tp5\", \"hp_v3_tp5\", \"hp_v4_tp5\"]\n",
    "\n",
    "P_M_04 = [\"hp_v5_tp2\", \"hp_v6_tp2\", \"hp_v7_tp2\", \"hp_v8_tp2\"]\n",
    "P_M_24 = [\"hp_v5_tp3\", \"hp_v6_tp3\", \"hp_v7_tp3\", \"hp_v8_tp3\"]\n",
    "P_M_48 = [\"hp_v5_tp4\", \"hp_v6_tp4\", \"hp_v7_tp4\", \"hp_v8_tp4\"]\n",
    "P_M_72 = [\"hp_v5_tp5\", \"hp_v6_tp5\", \"hp_v8_tp5\"]"
   ]
  },
  {
   "cell_type": "code",
   "execution_count": 4,
   "id": "fe3d5944-ef9a-4f23-8885-e729a10c163e",
   "metadata": {},
   "outputs": [],
   "source": [
    "input_rates = \"/home/users/lzehetner/data/hek/specific_exchange_rates.csv\"\n",
    "df = pd.read_csv(input_rates)"
   ]
  },
  {
   "cell_type": "code",
   "execution_count": 5,
   "id": "b6747829-d697-42ac-81d5-6d34678bf8d9",
   "metadata": {
    "tags": []
   },
   "outputs": [],
   "source": [
    "filtered_dfs = {}"
   ]
  },
  {
   "cell_type": "code",
   "execution_count": 6,
   "id": "bb91a6ca-d5b9-4340-8bd8-bcb3ed1363cc",
   "metadata": {
    "tags": []
   },
   "outputs": [],
   "source": [
    "states = ['HP_TR', 'HP_MO', 'LP_TR', 'LP_MO']\n",
    "time_points = [4, 24, 48, 72]"
   ]
  },
  {
   "cell_type": "code",
   "execution_count": 7,
   "id": "6af85fff-613d-492e-bdee-db3c3ee06b5c",
   "metadata": {
    "tags": []
   },
   "outputs": [],
   "source": [
    "for state in states:\n",
    "    for time_point in time_points:\n",
    "        key = f\"{state}_{time_point}\"\n",
    "        filtered_dfs[key] = df[(df['state'] == state) & (df['time_point'] == time_point)]"
   ]
  },
  {
   "cell_type": "code",
   "execution_count": 8,
   "id": "34c1c438-bd60-4dcd-bce2-79b185d71615",
   "metadata": {
    "tags": []
   },
   "outputs": [],
   "source": [
    "df_hp_tr_4 = filtered_dfs['HP_TR_4']\n",
    "df_hp_tr_24 = filtered_dfs['HP_TR_24']\n",
    "df_hp_tr_48 = filtered_dfs['HP_TR_48']\n",
    "df_hp_tr_72 = filtered_dfs['HP_TR_72']\n",
    "\n",
    "df_hp_mo_4 = filtered_dfs['HP_MO_4']\n",
    "df_hp_mo_24 = filtered_dfs['HP_MO_24']\n",
    "df_hp_mo_48 = filtered_dfs['HP_MO_48']\n",
    "df_hp_mo_72 = filtered_dfs['HP_MO_72']\n",
    "\n",
    "df_lp_tr_4 = filtered_dfs['LP_TR_4']\n",
    "df_lp_tr_24 = filtered_dfs['LP_TR_24']\n",
    "df_lp_tr_48 = filtered_dfs['LP_TR_48']\n",
    "df_lp_tr_72 = filtered_dfs['LP_TR_72']\n",
    "\n",
    "df_lp_mo_4 = filtered_dfs['LP_MO_4']\n",
    "df_lp_mo_24 = filtered_dfs['LP_MO_24']\n",
    "df_lp_mo_48 = filtered_dfs['LP_MO_48']\n",
    "df_lp_mo_72 = filtered_dfs['LP_MO_72']"
   ]
  },
  {
   "cell_type": "code",
   "execution_count": 9,
   "id": "87949736-20aa-4e3a-bdb7-9e672836b6f3",
   "metadata": {
    "tags": []
   },
   "outputs": [],
   "source": [
    "# remove last row with ammonia, since there are no exchange rate fitted\n",
    "df_hp_tr_72 = df_hp_tr_72[:-1]"
   ]
  },
  {
   "cell_type": "code",
   "execution_count": 10,
   "id": "793177f6-820b-4de3-9587-ea97d967b884",
   "metadata": {
    "tags": []
   },
   "outputs": [],
   "source": [
    "metabolite_to_reaction = {'Alanine': 'MAR09061',\n",
    "                         'Arginine': 'MAR09066',\n",
    "                         'Asparagine': 'MAR09062',\n",
    "                         'Aspartic acid': 'MAR09070',\n",
    "                         'Glutamate': 'MAR09071',\n",
    "                         'Glutamine': 'MAR09063',\n",
    "                         'Gly': 'MAR09067',\n",
    "                         'Histidine': 'MAR09038',\n",
    "                         'Isoleucine': 'MAR09039',\n",
    "                         'Leucine': 'MAR09040',\n",
    "                         'Lysine': 'MAR09041',\n",
    "                         'Methionine': 'MAR09042',\n",
    "                         'Phenylalanine': 'MAR09043',\n",
    "                         'Pro': 'MAR09068',\n",
    "                         'Serine': 'MAR09069',\n",
    "                         'Threonine': 'MAR09044',\n",
    "                         'Tryptophan': 'MAR09045',\n",
    "                         'Tyrosine': 'MAR09064',\n",
    "                         'Valine': 'MAR09046',\n",
    "                         'Glucose': 'MAR09034',\n",
    "                         'Nh3': 'MAR11420',\n",
    "                         'Lac': 'MAR09135'\n",
    "                         }"
   ]
  },
  {
   "cell_type": "code",
   "execution_count": 11,
   "id": "3922a7f8-f72a-4992-9f0f-bf6cc03e369a",
   "metadata": {},
   "outputs": [],
   "source": [
    "input_model = \"/home/users/lzehetner/data/human1/human1.xml\"\n",
    "mod = cobra.io.read_sbml_model(input_model)\n",
    "mod.solver = \"cplex\""
   ]
  },
  {
   "cell_type": "code",
   "execution_count": 12,
   "id": "8978e29e-acdd-4f7e-8255-295c546f14e0",
   "metadata": {
    "tags": []
   },
   "outputs": [],
   "source": [
    "min_media_comp = [\n",
    "    \"MAR09061\",\n",
    "    \"MAR09034\",\n",
    "    \"MAR09035\",\n",
    "    \"MAR09036\",\n",
    "    \"MAR09038\",\n",
    "    \"MAR09039\",\n",
    "    \"MAR09040\",\n",
    "    \"MAR09041\",\n",
    "    \"MAR09042\",\n",
    "    \"MAR09043\",\n",
    "    \"MAR09044\",\n",
    "    \"MAR09045\",\n",
    "    \"MAR09046\",\n",
    "    \"MAR09047\",\n",
    "    \"MAR09048\",\n",
    "    \"MAR09062\",\n",
    "    \"MAR09063\",\n",
    "    \"MAR09064\",\n",
    "    \"MAR09065\",\n",
    "    \"MAR09066\",\n",
    "    \"MAR09068\",\n",
    "    \"MAR09069\",\n",
    "    \"MAR09076\",\n",
    "    \"MAR09146\",\n",
    "    \"MAR09109\",\n",
    "    \"MAR09143\",\n",
    "    \"MAR09144\",\n",
    "    \"MAR09147\",\n",
    "    \"MAR09150\",\n",
    "    \"MAR09151\",\n",
    "    \"MAR09153\",\n",
    "    \"MAR09158\",\n",
    "    \"MAR09159\",\n",
    "    \"MAR09167\",\n",
    "    \"MAR09269\",\n",
    "    \"MAR09072\",\n",
    "    \"MAR09145\",\n",
    "    \"MAR09070\",\n",
    "    \"MAR09071\",\n",
    "    \"MAR09067\",\n",
    "    \"MAR11420\",\n",
    "    \"MAR09135\"\n",
    "]"
   ]
  },
  {
   "cell_type": "code",
   "execution_count": null,
   "id": "efd7be37-ab9a-470b-bc6a-b6a4f2d5482a",
   "metadata": {},
   "outputs": [],
   "source": [
    "## AAV production reaction"
   ]
  },
  {
   "cell_type": "code",
   "execution_count": 13,
   "id": "fbc330e5-66cd-46c8-a896-7385a07eb4ff",
   "metadata": {},
   "outputs": [],
   "source": [
    "##### Alanine reaction\n",
    "\n",
    "ala_reaction = Reaction('MAR_ALA_nuc')\n",
    "ala_reaction.name = 'Exchange reaction of alanine between cytosole and nucleus'\n",
    "ala_reaction.subsystem = ''\n",
    "ala_reaction.lower_bound = 0 # but needs to be adopted from paper\n",
    "ala_reaction.upper_bound = 1000 # but needs also to be adopted\n",
    "\n",
    "MAM01307n = Metabolite(\n",
    "    'MAM01307n',\n",
    "    formula= mod.metabolites.get_by_id(\"MAM01307c\").formula,\n",
    "    name='alanine',\n",
    "    compartment='n')\n",
    "\n",
    "ala_reaction.add_metabolites({\n",
    "    mod.metabolites.get_by_id(\"MAM01307c\"): -1, # Alanine\n",
    "    MAM01307n: 1\n",
    "})\n",
    "\n",
    "##### Arginine reaction\n",
    "\n",
    "arg_reaction = Reaction('MAR_ARG_nuc')\n",
    "arg_reaction.name = 'Exchange reaction of arginine between cytosole and nucleus'\n",
    "arg_reaction.subsystem = ''\n",
    "arg_reaction.lower_bound = 0 # but needs to be adopted from paper\n",
    "arg_reaction.upper_bound = 1000 # but needs also to be adopted\n",
    "\n",
    "MAM01365n = Metabolite(\n",
    "    'MAM01365n',\n",
    "    formula= mod.metabolites.get_by_id(\"MAM01365c\").formula,\n",
    "    name='arginine',\n",
    "    compartment='n')\n",
    "\n",
    "arg_reaction.add_metabolites({\n",
    "    mod.metabolites.get_by_id(\"MAM01365c\"): -1, # Alanine\n",
    "    MAM01365n: 1\n",
    "})\n",
    "\n",
    "##### Asparagine reaction\n",
    "\n",
    "asn_reaction = Reaction('MAR_ASN_nuc')\n",
    "asn_reaction.name = 'Exchange reaction of asparagine between cytosole and nucleus'\n",
    "asn_reaction.subsystem = ''\n",
    "asn_reaction.lower_bound = 0 # but needs to be adopted from paper\n",
    "asn_reaction.upper_bound = 1000 # but needs also to be adopted\n",
    "\n",
    "MAM01369n = Metabolite(\n",
    "    'MAM01369n',\n",
    "    formula= mod.metabolites.get_by_id(\"MAM01369c\").formula,\n",
    "    name='asparagine',\n",
    "    compartment='n')\n",
    "\n",
    "asn_reaction.add_metabolites({\n",
    "    mod.metabolites.get_by_id(\"MAM01369c\"): -1, # Alanine\n",
    "    MAM01369n: 1\n",
    "})\n",
    "\n",
    "##### Aspartate reaction\n",
    "\n",
    "asp_reaction = Reaction('MAR_ASP_nuc')\n",
    "asp_reaction.name = 'Exchange reaction of aspartate between cytosole and nucleus'\n",
    "asp_reaction.subsystem = ''\n",
    "asp_reaction.lower_bound = 0 # but needs to be adopted from paper\n",
    "asp_reaction.upper_bound = 1000 # but needs also to be adopted\n",
    "\n",
    "MAM01370n = Metabolite(\n",
    "    'MAM01370n',\n",
    "    formula= mod.metabolites.get_by_id(\"MAM01370c\").formula,\n",
    "    name='aspartate',\n",
    "    compartment='n')\n",
    "\n",
    "asp_reaction.add_metabolites({\n",
    "    mod.metabolites.get_by_id(\"MAM01370c\"): -1, # Alanine\n",
    "    MAM01370n: 1\n",
    "})\n",
    "\n",
    "##### Cysteine reaction\n",
    "\n",
    "cys_reaction = Reaction('MAR_CYS_nuc')\n",
    "cys_reaction.name = 'Exchange reaction of cysteine between cytosole and nucleus'\n",
    "cys_reaction.subsystem = ''\n",
    "cys_reaction.lower_bound = 0 # but needs to be adopted from paper\n",
    "cys_reaction.upper_bound = 1000 # but needs also to be adopted\n",
    "\n",
    "MAM01628n = Metabolite(\n",
    "    'MAM01628n',\n",
    "    formula= mod.metabolites.get_by_id(\"MAM01628c\").formula,\n",
    "    name='cysteine',\n",
    "    compartment='n')\n",
    "\n",
    "cys_reaction.add_metabolites({\n",
    "    mod.metabolites.get_by_id(\"MAM01628c\"): -1, # Alanine\n",
    "    MAM01628n: 1\n",
    "})\n",
    "\n",
    "##### Glutamine reaction\n",
    "\n",
    "gln_reaction = Reaction('MAR_GLN_nuc')\n",
    "gln_reaction.name = 'Exchange reaction of glutamine between cytosole and nucleus'\n",
    "gln_reaction.subsystem = ''\n",
    "gln_reaction.lower_bound = 0 # but needs to be adopted from paper\n",
    "gln_reaction.upper_bound = 1000 # but needs also to be adopted\n",
    "\n",
    "MAM01975n = Metabolite(\n",
    "    'MAM01975n',\n",
    "    formula= mod.metabolites.get_by_id(\"MAM01975c\").formula,\n",
    "    name='glutamine',\n",
    "    compartment='n')\n",
    "\n",
    "gln_reaction.add_metabolites({\n",
    "    mod.metabolites.get_by_id(\"MAM01975c\"): -1, # Alanine\n",
    "    MAM01975n: 1\n",
    "})\n",
    "\n",
    "##### Glutamate reaction\n",
    "\n",
    "glu_reaction = Reaction('MAR_GLU_nuc')\n",
    "glu_reaction.name = 'Exchange reaction of glutamate between cytosole and nucleus'\n",
    "glu_reaction.subsystem = ''\n",
    "glu_reaction.lower_bound = 0 # but needs to be adopted from paper\n",
    "glu_reaction.upper_bound = 1000 # but needs also to be adopted\n",
    "\n",
    "MAM01974n = Metabolite(\n",
    "    'MAM01974n',\n",
    "    formula= mod.metabolites.get_by_id(\"MAM01974c\").formula,\n",
    "    name='glutamate',\n",
    "    compartment='n')\n",
    "\n",
    "glu_reaction.add_metabolites({\n",
    "    mod.metabolites.get_by_id(\"MAM01974c\"): -1, # Alanine\n",
    "    MAM01974n: 1\n",
    "})\n",
    "\n",
    "##### Glycine reaction\n",
    "\n",
    "gly_reaction = Reaction('MAR_GLY_nuc')\n",
    "gly_reaction.name = 'Exchange reaction of glycine between cytosole and nucleus'\n",
    "gly_reaction.subsystem = ''\n",
    "gly_reaction.lower_bound = 0 # but needs to be adopted from paper\n",
    "gly_reaction.upper_bound = 1000 # but needs also to be adopted\n",
    "\n",
    "MAM01986n = Metabolite(\n",
    "    'MAM01986n',\n",
    "    formula= mod.metabolites.get_by_id(\"MAM01986c\").formula,\n",
    "    name='glycine',\n",
    "    compartment='n')\n",
    "\n",
    "gly_reaction.add_metabolites({\n",
    "    mod.metabolites.get_by_id(\"MAM01986c\"): -1, # Alanine\n",
    "    MAM01986n: 1\n",
    "})\n",
    "\n",
    "##### Histidine reaction\n",
    "\n",
    "his_reaction = Reaction('MAR_HIS_nuc')\n",
    "his_reaction.name = 'Exchange reaction of histidine between cytosole and nucleus'\n",
    "his_reaction.subsystem = ''\n",
    "his_reaction.lower_bound = 0 # but needs to be adopted from paper\n",
    "his_reaction.upper_bound = 1000 # but needs also to be adopted\n",
    "\n",
    "MAM02125n = Metabolite(\n",
    "    'MAM02125n',\n",
    "    formula= mod.metabolites.get_by_id(\"MAM02125c\").formula,\n",
    "    name='histidine',\n",
    "    compartment='n')\n",
    "\n",
    "his_reaction.add_metabolites({\n",
    "    mod.metabolites.get_by_id(\"MAM02125c\"): -1, # Alanine\n",
    "    MAM02125n: 1\n",
    "})\n",
    "\n",
    "##### Isoleucine reaction\n",
    "\n",
    "ile_reaction = Reaction('MAR_ILE_nuc')\n",
    "ile_reaction.name = 'Exchange reaction of isoleucine between cytosole and nucleus'\n",
    "ile_reaction.subsystem = ''\n",
    "ile_reaction.lower_bound = 0 # but needs to be adopted from paper\n",
    "ile_reaction.upper_bound = 1000 # but needs also to be adopted\n",
    "\n",
    "MAM02184n = Metabolite(\n",
    "    'MAM02184n',\n",
    "    formula= mod.metabolites.get_by_id(\"MAM02184c\").formula,\n",
    "    name='isoleucine',\n",
    "    compartment='n')\n",
    "\n",
    "ile_reaction.add_metabolites({\n",
    "    mod.metabolites.get_by_id(\"MAM02184c\"): -1, # Alanine\n",
    "    MAM02184n: 1\n",
    "})\n",
    "\n",
    "##### Leucine reaction\n",
    "\n",
    "leu_reaction = Reaction('MAR_LEU_nuc')\n",
    "leu_reaction.name = 'Exchange reaction of leucine between cytosole and nucleus'\n",
    "leu_reaction.subsystem = ''\n",
    "leu_reaction.lower_bound = 0 # but needs to be adopted from paper\n",
    "leu_reaction.upper_bound = 1000 # but needs also to be adopted\n",
    "\n",
    "MAM02360n = Metabolite(\n",
    "    'MAM02360n',\n",
    "    formula= mod.metabolites.get_by_id(\"MAM02360c\").formula,\n",
    "    name='leucine',\n",
    "    compartment='n')\n",
    "\n",
    "leu_reaction.add_metabolites({\n",
    "    mod.metabolites.get_by_id(\"MAM02360c\"): -1, # Alanine\n",
    "    MAM02360n: 1\n",
    "})\n",
    "\n",
    "##### Lysine reaction\n",
    "\n",
    "lys_reaction = Reaction('MAR_LYS_nuc')\n",
    "lys_reaction.name = 'Exchange reaction of lysine between cytosole and nucleus'\n",
    "lys_reaction.subsystem = ''\n",
    "lys_reaction.lower_bound = 0 # but needs to be adopted from paper\n",
    "lys_reaction.upper_bound = 1000 # but needs also to be adopted\n",
    "\n",
    "MAM02426n = Metabolite(\n",
    "    'MAM02426n',\n",
    "    formula= mod.metabolites.get_by_id(\"MAM02426c\").formula,\n",
    "    name='lysine',\n",
    "    compartment='n')\n",
    "\n",
    "lys_reaction.add_metabolites({\n",
    "    mod.metabolites.get_by_id(\"MAM02426c\"): -1,\n",
    "    MAM02426n: 1\n",
    "})\n",
    "\n",
    "##### Methionine reaction\n",
    "\n",
    "met_reaction = Reaction('MAR_MET_nuc')\n",
    "met_reaction.name = 'Exchange reaction of methionine between cytosole and nucleus'\n",
    "met_reaction.subsystem = ''\n",
    "met_reaction.lower_bound = 0 # but needs to be adopted from paper\n",
    "met_reaction.upper_bound = 1000 # but needs also to be adopted\n",
    "\n",
    "MAM02471n = Metabolite(\n",
    "    'MAM02471n',\n",
    "    formula= mod.metabolites.get_by_id(\"MAM02471c\").formula,\n",
    "    name='methionine',\n",
    "    compartment='n')\n",
    "\n",
    "met_reaction.add_metabolites({\n",
    "    mod.metabolites.get_by_id(\"MAM02471c\"): -1,\n",
    "    MAM02471n: 1\n",
    "})\n",
    "\n",
    "##### Phenylalanine reaction\n",
    "\n",
    "phe_reaction = Reaction('MAR_PHE_nuc')\n",
    "phe_reaction.name = 'Exchange reaction of phenylalanine between cytosole and nucleus'\n",
    "phe_reaction.subsystem = ''\n",
    "phe_reaction.lower_bound = 0 # but needs to be adopted from paper\n",
    "phe_reaction.upper_bound = 1000 # but needs also to be adopted\n",
    "\n",
    "MAM02724n = Metabolite(\n",
    "    'MAM02724n',\n",
    "    formula= mod.metabolites.get_by_id(\"MAM02724c\").formula,\n",
    "    name='phenylalanine',\n",
    "    compartment='n')\n",
    "\n",
    "phe_reaction.add_metabolites({\n",
    "    mod.metabolites.get_by_id(\"MAM02724c\"): -1,\n",
    "    MAM02724n: 1\n",
    "})\n",
    "\n",
    "##### Proline reaction\n",
    "\n",
    "pro_reaction = Reaction('MAR_PRO_nuc')\n",
    "pro_reaction.name = 'Exchange reaction of proline between cytosole and nucleus'\n",
    "pro_reaction.subsystem = ''\n",
    "pro_reaction.lower_bound = 0 # but needs to be adopted from paper\n",
    "pro_reaction.upper_bound = 1000 # but needs also to be adopted\n",
    "\n",
    "MAM02770n = Metabolite(\n",
    "    'MAM02770n',\n",
    "    formula= mod.metabolites.get_by_id(\"MAM02770c\").formula,\n",
    "    name='proline',\n",
    "    compartment='n')\n",
    "\n",
    "pro_reaction.add_metabolites({\n",
    "    mod.metabolites.get_by_id(\"MAM02770c\"): -1,\n",
    "    MAM02770n: 1\n",
    "})\n",
    "\n",
    "##### Serine reaction\n",
    "\n",
    "ser_reaction = Reaction('MAR_SER_nuc')\n",
    "ser_reaction.name = 'Exchange reaction of serine between cytosole and nucleus'\n",
    "ser_reaction.subsystem = ''\n",
    "ser_reaction.lower_bound = 0 # but needs to be adopted from paper\n",
    "ser_reaction.upper_bound = 1000 # but needs also to be adopted\n",
    "\n",
    "MAM02896n = Metabolite(\n",
    "    'MAM02896n',\n",
    "    formula= mod.metabolites.get_by_id(\"MAM02896c\").formula,\n",
    "    name='serine',\n",
    "    compartment='n')\n",
    "\n",
    "ser_reaction.add_metabolites({\n",
    "    mod.metabolites.get_by_id(\"MAM02896c\"): -1,\n",
    "    MAM02896n: 1\n",
    "})\n",
    "\n",
    "##### Threonine reaction\n",
    "\n",
    "thr_reaction = Reaction('MAR_THR_nuc')\n",
    "thr_reaction.name = 'Exchange reaction of threonine between cytosole and nucleus'\n",
    "thr_reaction.subsystem = ''\n",
    "thr_reaction.lower_bound = 0 # but needs to be adopted from paper\n",
    "thr_reaction.upper_bound = 1000 # but needs also to be adopted\n",
    "\n",
    "MAM02993n = Metabolite(\n",
    "    'MAM02993n',\n",
    "    formula= mod.metabolites.get_by_id(\"MAM02993c\").formula,\n",
    "    name='threonine',\n",
    "    compartment='n')\n",
    "\n",
    "thr_reaction.add_metabolites({\n",
    "    mod.metabolites.get_by_id(\"MAM02993c\"): -1,\n",
    "    MAM02993n: 1\n",
    "})\n",
    "\n",
    "##### Tryptophane reaction\n",
    "\n",
    "trp_reaction = Reaction('MAR_TRP_nuc')\n",
    "trp_reaction.name = 'Exchange reaction of tryptophane between cytosole and nucleus'\n",
    "trp_reaction.subsystem = ''\n",
    "trp_reaction.lower_bound = 0 # but needs to be adopted from paper\n",
    "trp_reaction.upper_bound = 1000 # but needs also to be adopted\n",
    "\n",
    "MAM03089n = Metabolite(\n",
    "    'MAM03089n',\n",
    "    formula= mod.metabolites.get_by_id(\"MAM03089c\").formula,\n",
    "    name='tryptophane',\n",
    "    compartment='n')\n",
    "\n",
    "trp_reaction.add_metabolites({\n",
    "    mod.metabolites.get_by_id(\"MAM03089c\"): -1,\n",
    "    MAM03089n: 1\n",
    "})\n",
    "\n",
    "##### Tyrosine reaction\n",
    "\n",
    "tyr_reaction = Reaction('MAR_TYR_nuc')\n",
    "tyr_reaction.name = 'Exchange reaction of tyrosine between cytosole and nucleus'\n",
    "tyr_reaction.subsystem = ''\n",
    "tyr_reaction.lower_bound = 0 # but needs to be adopted from paper\n",
    "tyr_reaction.upper_bound = 1000 # but needs also to be adopted\n",
    "\n",
    "MAM03101n = Metabolite(\n",
    "    'MAM03101n',\n",
    "    formula= mod.metabolites.get_by_id(\"MAM03101c\").formula,\n",
    "    name='tyrosine',\n",
    "    compartment='n')\n",
    "\n",
    "tyr_reaction.add_metabolites({\n",
    "    mod.metabolites.get_by_id(\"MAM03101c\"): -1,\n",
    "    MAM03101n: 1\n",
    "})\n",
    "\n",
    "##### Valine reaction\n",
    "\n",
    "val_reaction = Reaction('MAR_VAL_nuc')\n",
    "val_reaction.name = 'Exchange reaction of valine between cytosole and nucleus'\n",
    "val_reaction.subsystem = ''\n",
    "val_reaction.lower_bound = 0 # but needs to be adopted from paper\n",
    "val_reaction.upper_bound = 1000 # but needs also to be adopted\n",
    "\n",
    "MAM03135n = Metabolite(\n",
    "    'MAM03135n',\n",
    "    formula= mod.metabolites.get_by_id(\"MAM03135c\").formula,\n",
    "    name='valine',\n",
    "    compartment='n')\n",
    "\n",
    "val_reaction.add_metabolites({\n",
    "    mod.metabolites.get_by_id(\"MAM03135c\"): -1,\n",
    "    MAM03135n: 1\n",
    "})"
   ]
  },
  {
   "cell_type": "code",
   "execution_count": 14,
   "id": "56f9f848-f854-4d85-8fc0-a363a39dec26",
   "metadata": {},
   "outputs": [],
   "source": [
    "# the file was downloaded from ncbi db\n",
    "infile = open(\"/home/users/lzehetner/sequence_1.fasta\")\n",
    "\n",
    "aav_dict = SeqIO.to_dict(SeqIO.parse(infile, \"fasta\"))\n",
    "# print(aav_dict)\n",
    "vp1_seq = aav_dict[\"YP_077180.1\"].seq\n",
    "vp2_seq = aav_dict[\"YP_077180.2\"].seq\n",
    "vp3_seq = aav_dict[\"YP_077180.3\"].seq"
   ]
  },
  {
   "cell_type": "code",
   "execution_count": 15,
   "id": "c4990a7d-02dd-4e4b-9c75-5ec306c08c3a",
   "metadata": {},
   "outputs": [
    {
     "name": "stdout",
     "output_type": "stream",
     "text": [
      "VP1:  {'A': 51, 'R': 31, 'N': 58, 'D': 37, 'C': 5, 'Q': 48, 'E': 34, 'G': 69, 'H': 14, 'I': 24, 'L': 53, 'K': 32, 'M': 11, 'F': 32, 'P': 57, 'S': 49, 'T': 55, 'W': 15, 'Y': 33, 'V': 30}\n",
      "VP2:  {'A': 34, 'R': 25, 'N': 51, 'D': 25, 'C': 5, 'Q': 39, 'E': 23, 'G': 54, 'H': 12, 'I': 23, 'L': 37, 'K': 22, 'M': 10, 'F': 28, 'P': 48, 'S': 47, 'T': 54, 'W': 12, 'Y': 27, 'V': 25}\n",
      "VP3:  {'A': 30, 'R': 21, 'N': 49, 'D': 22, 'C': 5, 'Q': 34, 'E': 20, 'G': 45, 'H': 12, 'I': 22, 'L': 35, 'K': 17, 'M': 10, 'F': 27, 'P': 35, 'S': 40, 'T': 50, 'W': 12, 'Y': 27, 'V': 22}\n"
     ]
    }
   ],
   "source": [
    "vp1_counts = {\n",
    "    \"A\": vp1_seq.count('A'),\n",
    "    \"R\": vp1_seq.count('R'),\n",
    "    \"N\": vp1_seq.count('N'),\n",
    "    \"D\": vp1_seq.count('D'),\n",
    "    \"C\": vp1_seq.count('C'),\n",
    "    \"Q\": vp1_seq.count('Q'),\n",
    "    \"E\": vp1_seq.count('E'),\n",
    "    \"G\": vp1_seq.count('G'),\n",
    "    \"H\": vp1_seq.count('H'),\n",
    "    \"I\": vp1_seq.count('I'),\n",
    "    \"L\": vp1_seq.count('L'),\n",
    "    \"K\": vp1_seq.count('K'),\n",
    "    \"M\": vp1_seq.count('M'),\n",
    "    \"F\": vp1_seq.count('F'),\n",
    "    \"P\": vp1_seq.count('P'),\n",
    "    \"S\": vp1_seq.count('S'),\n",
    "    \"T\": vp1_seq.count('T'),\n",
    "    \"W\": vp1_seq.count('W'),\n",
    "    \"Y\": vp1_seq.count('Y'),\n",
    "    \"V\": vp1_seq.count('V'),\n",
    "}\n",
    "\n",
    "vp2_counts = {\n",
    "    \"A\": vp2_seq.count('A'),\n",
    "    \"R\": vp2_seq.count('R'),\n",
    "    \"N\": vp2_seq.count('N'),\n",
    "    \"D\": vp2_seq.count('D'),\n",
    "    \"C\": vp2_seq.count('C'),\n",
    "    \"Q\": vp2_seq.count('Q'),\n",
    "    \"E\": vp2_seq.count('E'),\n",
    "    \"G\": vp2_seq.count('G'),\n",
    "    \"H\": vp2_seq.count('H'),\n",
    "    \"I\": vp2_seq.count('I'),\n",
    "    \"L\": vp2_seq.count('L'),\n",
    "    \"K\": vp2_seq.count('K'),\n",
    "    \"M\": vp2_seq.count('M'),\n",
    "    \"F\": vp2_seq.count('F'),\n",
    "    \"P\": vp2_seq.count('P'),\n",
    "    \"S\": vp2_seq.count('S'),\n",
    "    \"T\": vp2_seq.count('T'),\n",
    "    \"W\": vp2_seq.count('W'),\n",
    "    \"Y\": vp2_seq.count('Y'),\n",
    "    \"V\": vp2_seq.count('V'),\n",
    "}\n",
    "\n",
    "vp3_counts = {\n",
    "    \"A\": vp3_seq.count('A'),\n",
    "    \"R\": vp3_seq.count('R'),\n",
    "    \"N\": vp3_seq.count('N'),\n",
    "    \"D\": vp3_seq.count('D'),\n",
    "    \"C\": vp3_seq.count('C'),\n",
    "    \"Q\": vp3_seq.count('Q'),\n",
    "    \"E\": vp3_seq.count('E'),\n",
    "    \"G\": vp3_seq.count('G'),\n",
    "    \"H\": vp3_seq.count('H'),\n",
    "    \"I\": vp3_seq.count('I'),\n",
    "    \"L\": vp3_seq.count('L'),\n",
    "    \"K\": vp3_seq.count('K'),\n",
    "    \"M\": vp3_seq.count('M'),\n",
    "    \"F\": vp3_seq.count('F'),\n",
    "    \"P\": vp3_seq.count('P'),\n",
    "    \"S\": vp3_seq.count('S'),\n",
    "    \"T\": vp3_seq.count('T'),\n",
    "    \"W\": vp3_seq.count('W'),\n",
    "    \"Y\": vp3_seq.count('Y'),\n",
    "    \"V\": vp3_seq.count('V'),\n",
    "}\n",
    "\n",
    "print(\"VP1: \", vp1_counts)\n",
    "print(\"VP2: \", vp2_counts)\n",
    "print(\"VP3: \", vp3_counts)"
   ]
  },
  {
   "cell_type": "code",
   "execution_count": 16,
   "id": "868b4df9-3d33-4df3-9b4c-8f9e5589888b",
   "metadata": {},
   "outputs": [
    {
     "name": "stdout",
     "output_type": "stream",
     "text": [
      "Sum Formula: C3627H5478O1124N1012S16\n",
      "Sum Formula: C2952H4450O916N824S15\n",
      "Sum Formula: C2664H3984O820N734S15\n",
      "Sum Formula of Capsid: C166095H248722O51141N45880S905\n"
     ]
    }
   ],
   "source": [
    "aa_compositions = {\n",
    "    'A': {'C': 3, 'H': 7, 'O': 2, 'N': 1, 'S': 0},\n",
    "    'C': {'C': 3, 'H': 7, 'O': 2, 'N': 1, 'S': 1},\n",
    "    'D': {'C': 4, 'H': 7, 'O': 4, 'N': 1, 'S': 0},\n",
    "    'E': {'C': 5, 'H': 9, 'O': 4, 'N': 1, 'S': 0},\n",
    "    'F': {'C': 9, 'H': 11, 'O': 2, 'N': 1, 'S': 0},\n",
    "    'G': {'C': 2, 'H': 5, 'O': 2, 'N': 1, 'S': 0},\n",
    "    'H': {'C': 6, 'H': 9, 'O': 2, 'N': 3, 'S': 0},\n",
    "    'I': {'C': 6, 'H': 13,'O': 2, 'N': 1, 'S': 0},\n",
    "    'K': {'C': 6, 'H': 14,'O': 2, 'N': 2, 'S': 0},\n",
    "    'L': {'C': 6, 'H': 13,'O': 2, 'N': 1, 'S': 0},\n",
    "    'M': {'C': 5, 'H': 11, 'O': 2, 'N': 1, 'S': 1},\n",
    "    'N': {'C': 4, 'H': 8, 'O': 3, 'N': 2, 'S': 0},\n",
    "    'P': {'C': 5, 'H': 9, 'O': 2, 'N': 1, 'S': 0},\n",
    "    'Q': {'C': 5, 'H': 10, 'O': 3, 'N': 2, 'S': 0},\n",
    "    'R': {'C': 6, 'H': 14,'O': 2, 'N': 4, 'S': 0},\n",
    "    'S': {'C': 3, 'H': 7, 'O': 3, 'N': 1, 'S': 0},\n",
    "    'T': {'C': 4, 'H': 9, 'O': 3, 'N': 1, 'S': 0},\n",
    "    'V': {'C': 5, 'H': 11, 'O': 2, 'N': 1, 'S': 0},\n",
    "    'W': {'C': 11,'H': 12,'O': 2, 'N': 2, 'S': 0},\n",
    "    'Y': {'C': 9, 'H': 11, 'O': 3, 'N': 1, 'S': 0},\n",
    "}\n",
    "\n",
    "# VP1\n",
    "protein_seq = str(vp1_seq)\n",
    "analysis = ProteinAnalysis(protein_seq)\n",
    "\n",
    "# Count amino acids in the protein sequence\n",
    "aa_counts = analysis.count_amino_acids()\n",
    "\n",
    "# Calculate the sum formula based on atomic composition\n",
    "sum_formula_counts = {'C': 0, 'H': 0, 'O': 0, 'N': 0, 'S': 0}\n",
    "\n",
    "for aa, count in aa_counts.items():\n",
    "    for atom, atom_count in aa_compositions[aa].items():\n",
    "        sum_formula_counts[atom] += atom_count * count\n",
    "\n",
    "# Adjust for the released water molecules during peptide bond formation\n",
    "num_peptide_bonds = len(protein_seq) - 1\n",
    "sum_formula_counts['H'] -= 2 * num_peptide_bonds\n",
    "sum_formula_counts['O'] -= num_peptide_bonds\n",
    "\n",
    "# Create the sum formula string\n",
    "sum_formula_vp1 = \"\".join([f\"{atom}{count}\" for atom, count in sum_formula_counts.items()])\n",
    "print(f\"Sum Formula: {sum_formula_vp1}\")\n",
    "\n",
    "# VP2\n",
    "protein_seq = str(vp2_seq)\n",
    "analysis = ProteinAnalysis(protein_seq)\n",
    "\n",
    "# Count amino acids in the protein sequence\n",
    "aa_counts = analysis.count_amino_acids()\n",
    "\n",
    "# Calculate the sum formula based on atomic composition\n",
    "sum_formula_counts = {'C': 0, 'H': 0, 'O': 0, 'N': 0, 'S': 0}\n",
    "\n",
    "for aa, count in aa_counts.items():\n",
    "    for atom, atom_count in aa_compositions[aa].items():\n",
    "        sum_formula_counts[atom] += atom_count * count\n",
    "\n",
    "# Adjust for the released water molecules during peptide bond formation\n",
    "num_peptide_bonds = len(protein_seq) - 1\n",
    "sum_formula_counts['H'] -= 2 * num_peptide_bonds\n",
    "sum_formula_counts['O'] -= num_peptide_bonds\n",
    "\n",
    "# Create the sum formula string\n",
    "sum_formula_vp2 = \"\".join([f\"{atom}{count}\" for atom, count in sum_formula_counts.items()])\n",
    "print(f\"Sum Formula: {sum_formula_vp2}\")\n",
    "\n",
    "# VP3\n",
    "protein_seq = str(vp3_seq)\n",
    "analysis = ProteinAnalysis(protein_seq)\n",
    "\n",
    "# Count amino acids in the protein sequence\n",
    "aa_counts = analysis.count_amino_acids()\n",
    "\n",
    "# Calculate the sum formula based on atomic composition\n",
    "sum_formula_counts = {'C': 0, 'H': 0, 'O': 0, 'N': 0, 'S': 0}\n",
    "\n",
    "for aa, count in aa_counts.items():\n",
    "    for atom, atom_count in aa_compositions[aa].items():\n",
    "        sum_formula_counts[atom] += atom_count * count\n",
    "\n",
    "# Adjust for the released water molecules during peptide bond formation\n",
    "num_peptide_bonds = len(protein_seq) - 1\n",
    "sum_formula_counts['H'] -= 2 * num_peptide_bonds\n",
    "sum_formula_counts['O'] -= num_peptide_bonds\n",
    "\n",
    "# Create the sum formula string\n",
    "sum_formula_vp3 = \"\".join([f\"{atom}{count}\" for atom, count in sum_formula_counts.items()])\n",
    "print(f\"Sum Formula: {sum_formula_vp3}\")\n",
    "\n",
    "\n",
    "\n",
    "\n",
    "protein_seq = 5 * str(vp1_seq) + 5 * str(vp2_seq) + 50 * str(vp3_seq)\n",
    "analysis = ProteinAnalysis(protein_seq)\n",
    "\n",
    "# Count amino acids in the protein sequence\n",
    "aa_counts = analysis.count_amino_acids()\n",
    "\n",
    "# Calculate the sum formula based on atomic composition\n",
    "sum_formula_counts = {'C': 0, 'H': 0, 'O': 0, 'N': 0, 'S': 0}\n",
    "\n",
    "for aa, count in aa_counts.items():\n",
    "    for atom, atom_count in aa_compositions[aa].items():\n",
    "        sum_formula_counts[atom] += atom_count * count\n",
    "\n",
    "# Adjust for the released water molecules during peptide bond formation\n",
    "num_peptide_bonds = len(protein_seq) - 1\n",
    "sum_formula_counts['H'] -= 2 * num_peptide_bonds\n",
    "sum_formula_counts['O'] -= num_peptide_bonds\n",
    "\n",
    "# Create the sum formula string\n",
    "sum_formula_capsid = \"\".join([f\"{atom}{count}\" for atom, count in sum_formula_counts.items()])\n",
    "print(f\"Sum Formula of Capsid: {sum_formula_capsid}\")\n"
   ]
  },
  {
   "cell_type": "code",
   "execution_count": 17,
   "id": "5b6ac341-502a-4867-89f4-71f710c908c2",
   "metadata": {},
   "outputs": [],
   "source": [
    "##### vp1 reaction\n",
    "\n",
    "vp1_reaction = Reaction('MAR_VP1')\n",
    "vp1_reaction.name = 'Synthesis of viral protein 1'\n",
    "vp1_reaction.subsystem = ''\n",
    "vp1_reaction.lower_bound = 0 # but needs to be adopted from paper\n",
    "vp1_reaction.upper_bound = 1000 # but needs also to be adopted\n",
    "\n",
    "VP1_n = Metabolite(\n",
    "    'VP1_n',\n",
    "    formula= {sum_formula_vp1},\n",
    "    name='Viral Protein 1',\n",
    "    compartment='n')\n",
    "\n",
    "vp1_reaction.add_metabolites({\n",
    "    MAM01307n: -vp1_counts[\"A\"], # Alanine\n",
    "    MAM01365n: -vp1_counts[\"R\"], # Arginine\n",
    "    MAM01369n: -vp1_counts[\"N\"], # Asparagine\n",
    "    MAM01370n: -vp1_counts[\"D\"], # Aspartate\n",
    "    MAM01628n: -vp1_counts[\"C\"], # Cysteine\n",
    "    MAM01975n: -vp1_counts[\"Q\"], # Glutamine\n",
    "    MAM01974n: -vp1_counts[\"E\"], # Glutamate\n",
    "    MAM01986n: -vp1_counts[\"G\"], # Glycine\n",
    "    MAM02125n: -vp1_counts[\"H\"], # Histidine\n",
    "    MAM02184n: -vp1_counts[\"I\"], # Ile\n",
    "    MAM02360n: -vp1_counts[\"L\"], # Leu\n",
    "    MAM02426n: -vp1_counts[\"K\"], # Lysin\n",
    "    MAM02471n: -vp1_counts[\"M\"], # Met\n",
    "    MAM02724n: -vp1_counts[\"F\"], # Phe\n",
    "    MAM02770n: -vp1_counts[\"P\"], # Pro\n",
    "    MAM02896n: -vp1_counts[\"S\"], # Serin\n",
    "    MAM02993n: -vp1_counts[\"T\"], # Thr\n",
    "    MAM03089n: -vp1_counts[\"W\"], # Trp\n",
    "    MAM03101n: -vp1_counts[\"Y\"], # Tyr\n",
    "    MAM03135n: -vp1_counts[\"V\"], # Val\n",
    "    mod.metabolites.get_by_id(\"MAM02034n\"): - 3 * sum(vp1_counts.values()), # GTP\n",
    "    mod.metabolites.get_by_id(\"MAM02040n\"): -( 3 * sum(vp1_counts.values()) + 1), # Water\n",
    "    mod.metabolites.get_by_id(\"MAM01948n\"): 3 * sum(vp1_counts.values()), # GDP\n",
    "    mod.metabolites.get_by_id(\"MAM02751n\"): 3 * sum(vp1_counts.values()), # phosphate\n",
    "    mod.metabolites.get_by_id(\"MAM02039n\"): 0.75 * 3 * sum(vp1_counts.values()), # proton\n",
    "    VP1_n: 1.0\n",
    "})"
   ]
  },
  {
   "cell_type": "code",
   "execution_count": 18,
   "id": "2594e2c8-a4ad-44f6-877a-aab63d3f8a34",
   "metadata": {},
   "outputs": [],
   "source": [
    "##### vp2 reaction\n",
    "vp2_reaction = Reaction('MAR_VP2')\n",
    "vp2_reaction.name = 'Synthesis of viral protein 2'\n",
    "vp2_reaction.subsystem = ''\n",
    "vp2_reaction.lower_bound = 0 # but needs to be adopted from paper\n",
    "vp2_reaction.upper_bound = 1000 # but needs also to be adopted\n",
    "\n",
    "VP2_n = Metabolite(\n",
    "    'VP2_n',\n",
    "    formula= {sum_formula_vp2},\n",
    "    name='Viral Protein 2',\n",
    "    compartment='n')\n",
    "\n",
    "vp2_reaction.add_metabolites({\n",
    "    MAM01307n: -vp2_counts[\"A\"], # Alanine\n",
    "    MAM01365n: -vp2_counts[\"R\"], # Arginine\n",
    "    MAM01369n: -vp2_counts[\"N\"], # Asparagine\n",
    "    MAM01370n: -vp2_counts[\"D\"], # Aspartate\n",
    "    MAM01628n: -vp2_counts[\"C\"], # Cysteine\n",
    "    MAM01975n: -vp2_counts[\"Q\"], # Glutamine\n",
    "    MAM01974n: -vp2_counts[\"E\"], # Glutamate\n",
    "    MAM01986n: -vp2_counts[\"G\"], # Glycine\n",
    "    MAM02125n: -vp2_counts[\"H\"], # Histidine\n",
    "    MAM02184n: -vp2_counts[\"I\"], # Ile\n",
    "    MAM02360n: -vp2_counts[\"L\"], # Leu\n",
    "    MAM02426n: -vp2_counts[\"K\"], # Lysin\n",
    "    MAM02471n: -vp2_counts[\"M\"], # Met\n",
    "    MAM02724n: -vp2_counts[\"F\"], # Phe\n",
    "    MAM02770n: -vp2_counts[\"P\"], # Pro\n",
    "    MAM02896n: -vp2_counts[\"S\"], # Serin\n",
    "    MAM02993n: -vp2_counts[\"T\"], # Thr\n",
    "    MAM03089n: -vp2_counts[\"W\"], # Trp\n",
    "    MAM03101n: -vp2_counts[\"Y\"], # Tyr\n",
    "    MAM03135n: -vp2_counts[\"V\"], # Val\n",
    "    mod.metabolites.get_by_id(\"MAM02034n\"): - 3 * sum(vp2_counts.values()), # GTP\n",
    "    mod.metabolites.get_by_id(\"MAM02040n\"): -( 3 * sum(vp2_counts.values()) + 1), # Water\n",
    "    mod.metabolites.get_by_id(\"MAM01948n\"): 3 * sum(vp2_counts.values()), # GDP\n",
    "    mod.metabolites.get_by_id(\"MAM02751n\"): 3 * sum(vp2_counts.values()), # phosphate\n",
    "    mod.metabolites.get_by_id(\"MAM02039n\"): 0.75 * 3 * sum(vp2_counts.values()), # proton\n",
    "    VP2_n: 1.0\n",
    "})"
   ]
  },
  {
   "cell_type": "code",
   "execution_count": 19,
   "id": "4dbd50b4-43ea-4673-b575-4424b3ff087a",
   "metadata": {},
   "outputs": [],
   "source": [
    "##### vp3 reaction\n",
    "vp3_reaction = Reaction('MAR_VP3')\n",
    "vp3_reaction.name = 'Synthesis of viral protein 3'\n",
    "vp3_reaction.subsystem = ''\n",
    "vp3_reaction.lower_bound = 0 # but needs to be adopted from paper\n",
    "vp3_reaction.upper_bound = 1000 # but needs also to be adopted\n",
    "\n",
    "VP3_n = Metabolite(\n",
    "    'VP3_n',\n",
    "    formula= {sum_formula_vp3},\n",
    "    name='Viral Protein 3',\n",
    "    compartment='n')\n",
    "\n",
    "vp3_reaction.add_metabolites({\n",
    "    MAM01307n: -vp3_counts[\"A\"], # Alanine\n",
    "    MAM01365n: -vp3_counts[\"R\"], # Arginine\n",
    "    MAM01369n: -vp3_counts[\"N\"], # Asparagine\n",
    "    MAM01370n: -vp3_counts[\"D\"], # Aspartate\n",
    "    MAM01628n: -vp3_counts[\"C\"], # Cysteine\n",
    "    MAM01975n: -vp3_counts[\"Q\"], # Glutamine\n",
    "    MAM01974n: -vp3_counts[\"E\"], # Glutamate\n",
    "    MAM01986n: -vp3_counts[\"G\"], # Glycine\n",
    "    MAM02125n: -vp3_counts[\"H\"], # Histidine\n",
    "    MAM02184n: -vp3_counts[\"I\"], # Ile\n",
    "    MAM02360n: -vp3_counts[\"L\"], # Leu\n",
    "    MAM02426n: -vp3_counts[\"K\"], # Lysin\n",
    "    MAM02471n: -vp3_counts[\"M\"], # Met\n",
    "    MAM02724n: -vp3_counts[\"F\"], # Phe\n",
    "    MAM02770n: -vp3_counts[\"P\"], # Pro\n",
    "    MAM02896n: -vp3_counts[\"S\"], # Serin\n",
    "    MAM02993n: -vp3_counts[\"T\"], # Thr\n",
    "    MAM03089n: -vp3_counts[\"W\"], # Trp\n",
    "    MAM03101n: -vp3_counts[\"Y\"], # Tyr\n",
    "    MAM03135n: -vp3_counts[\"V\"], # Val\n",
    "    mod.metabolites.get_by_id(\"MAM02034n\"): - 3 * sum(vp3_counts.values()), # GTP\n",
    "    mod.metabolites.get_by_id(\"MAM02040n\"): -( 3 * sum(vp3_counts.values()) + 1), # Water\n",
    "    mod.metabolites.get_by_id(\"MAM01948n\"): 3 * sum(vp3_counts.values()), # GDP\n",
    "    mod.metabolites.get_by_id(\"MAM02751n\"): 3 * sum(vp3_counts.values()), # phosphate\n",
    "    mod.metabolites.get_by_id(\"MAM02039n\"): 0.75 * 3 * sum(vp3_counts.values()), # proton\n",
    "    VP3_n: 1.0\n",
    "})"
   ]
  },
  {
   "cell_type": "code",
   "execution_count": 20,
   "id": "0892982c-646f-443c-a051-daf3d0cc1134",
   "metadata": {},
   "outputs": [],
   "source": [
    "##### capsid reaction\n",
    "\n",
    "capsid_reaction = Reaction('MAR_CAPSID')\n",
    "capsid_reaction.name = 'Synthesis of viral Capsid'\n",
    "capsid_reaction.subsystem = ''\n",
    "capsid_reaction.lower_bound = 0 # but needs to be adopted from paper\n",
    "capsid_reaction.upper_bound = 1000 # but needs also to be adopted\n",
    "\n",
    "capsid_n = Metabolite(\n",
    "    'Capsid',\n",
    "    formula = {sum_formula_capsid},\n",
    "    name = 'Capsid',\n",
    "    compartment = 'n')\n",
    "\n",
    "capsid_reaction.add_metabolites({\n",
    "    VP1_n : -5,\n",
    "    VP2_n : -5,\n",
    "    VP3_n : -50,\n",
    "    capsid_n : 1\n",
    "})"
   ]
  },
  {
   "cell_type": "code",
   "execution_count": 21,
   "id": "90a70bc2-65b7-4258-b51b-ee20b85f5b67",
   "metadata": {},
   "outputs": [],
   "source": [
    "# Target gene reaction\n",
    "#A = C10 H12 O5 N5 P => * 1175 => C11750 H14100 O5875 N5875 P1175\n",
    "#G = C10 H12 O6 N5 P => * 1175 => C11750 H14100 O7050 N5875 P1175\n",
    "#C = C9 H12 O6 N3 P => * 1175 => C10575 H14100 O7050 N3525 P1175\n",
    "#T = C10 H13 O7 N2 P => * 1175 => C11750 H15275 O8225 N2350 P1175\n",
    "#Sum = C45825 H57575  O28200 N17625 P4700\n",
    "#Minus PO3, plus H2O -> C45825 H57577 O28198 N17625 P4699\n",
    "#capsid + target gene -> C211920 H306299 O79399 N63505 P4699 S905"
   ]
  },
  {
   "cell_type": "code",
   "execution_count": 22,
   "id": "1fb58f0c-af52-456f-bd80-cea13f85543e",
   "metadata": {},
   "outputs": [],
   "source": [
    "##### product reaction\n",
    "target_gene_reaction = Reaction('MAR_TARGET_GENE')\n",
    "target_gene_reaction.name = 'Synthesis of target Gene'\n",
    "target_gene_reaction.subsystem = ''\n",
    "target_gene_reaction.lower_bound = 0 # but needs to be adopted from paper\n",
    "target_gene_reaction.upper_bound = 1000 # but needs also to be adopted\n",
    "\n",
    "target_gene_n = Metabolite(\n",
    "    'Target_Gene_Nucleus',\n",
    "    formula = 'C45825H57577O28198N17625P4699',\n",
    "    name = 'Target Gene',\n",
    "    compartment = 'n')\n",
    "\n",
    "target_gene_reaction.add_metabolites({\n",
    "    mod.metabolites.get_by_id(\"MAM01688n\") : -1175,  # G\n",
    "    mod.metabolites.get_by_id(\"MAM01642n\") : -1175,  # A\n",
    "    mod.metabolites.get_by_id(\"MAM01753n\") : -1175,  # T\n",
    "    mod.metabolites.get_by_id(\"MAM01645n\") : -1175,  # C\n",
    "    target_gene_n : 1\n",
    "})\n",
    "\n",
    "##### transport reaction from nucleus in cytosol\n",
    "\n",
    "#tg_transport_reaction = Reaction('MAR_TG_TRANSPORT')\n",
    "#tg_transport_reaction.name = 'Transport of target Gene'\n",
    "#tg_transport_reaction.subsystem = ''\n",
    "#tg_transport_reaction.lower_bound = 0 # but needs to be adopted from paper\n",
    "#tg_transport_reaction.upper_bound = 1000 # but needs also to be adopted\n",
    "\n",
    "#target_gene_c = Metabolite(\n",
    "#    'Target_Gene_Cytosole',\n",
    "#    formula = 'C45825H57577O28198N17625P4699',\n",
    "#    name = 'Target Gene Cytosol',\n",
    "#    compartment = 'c')\n",
    "\n",
    "#tg_transport_reaction.add_metabolites({\n",
    "#    target_gene_n : -1,\n",
    "#    target_gene_c : 1\n",
    "#})\n",
    "    \n",
    "##### assembly reaction\n",
    "\n",
    "assembly_reaction = Reaction('MAR_ASSEMBLY')\n",
    "assembly_reaction.name = 'Assembly of Product'\n",
    "assembly_reaction.subsystem = ''\n",
    "assembly_reaction.lower_bound = 0 # but needs to be adopted from paper\n",
    "assembly_reaction.upper_bound = 1000 # but needs also to be adopted\n",
    "\n",
    "product_n = Metabolite(\n",
    "    'Product_Nucleus',\n",
    "    formula = 'C211920H306299O79399N63505P4699S905',\n",
    "    name = 'Product Nucleus',\n",
    "    compartment = 'n')\n",
    "\n",
    "assembly_reaction.add_metabolites({\n",
    "    target_gene_n : -1,\n",
    "    capsid_n : -1,\n",
    "    product_n : 1\n",
    "})\n",
    "\n",
    "##### export of aav from nucleus to cytosole\n",
    "\n",
    "prod_transport_reaction = Reaction('MAR_TRANSPORT')\n",
    "prod_transport_reaction.name = 'Export of AAV to Cytosole'\n",
    "prod_transport_reaction.subsystem = ''\n",
    "prod_transport_reaction.lower_bound = 0 # but needs to be adopted from paper\n",
    "prod_transport_reaction.upper_bound = 1000 # but needs also to be adopted\n",
    "\n",
    "product_c = Metabolite(\n",
    "    'Product_Cytosole',\n",
    "    formula = 'C211920H306299O79399N63505P4699S905',\n",
    "    name = 'Product Cytosole',\n",
    "    compartment = 'c')\n",
    "\n",
    "prod_transport_reaction.add_metabolites({\n",
    "    product_n : -1,\n",
    "    product_c : 1\n",
    "})\n",
    "\n",
    "##### export of product\n",
    "\n",
    "prod_export_reaction = Reaction('MAR_EXPORT')\n",
    "prod_export_reaction.name = 'Export of Product'\n",
    "prod_export_reaction.subsystem = ''\n",
    "prod_export_reaction.lower_bound = 0 # but needs to be adopted from paper\n",
    "prod_export_reaction.upper_bound = 1000 # but needs also to be adopted\n",
    "\n",
    "product_s = Metabolite(\n",
    "    'Product_Extracellular',\n",
    "    formula = 'C211920H306299O79399N63505P4699S905',\n",
    "    name = 'Product Extracellular',\n",
    "    compartment = 's')\n",
    "\n",
    "prod_export_reaction.add_metabolites({\n",
    "    product_c : -1,\n",
    "    product_s : 1\n",
    "})\n",
    "    \n",
    "##### sink of product\n",
    "prod_sink_reaction = Reaction('MAR_SINK')\n",
    "prod_sink_reaction.name = 'Sink of Product'\n",
    "prod_sink_reaction.subsystem = ''\n",
    "prod_sink_reaction.lower_bound = 0 # but needs to be adopted from paper\n",
    "prod_sink_reaction.upper_bound = 1000 # but needs also to be adopted\n",
    "\n",
    "prod_sink_reaction.add_metabolites({\n",
    "    product_s : -1\n",
    "})"
   ]
  },
  {
   "cell_type": "code",
   "execution_count": 24,
   "id": "d8b70595-0c16-4e61-8752-b3d9095e8144",
   "metadata": {},
   "outputs": [],
   "source": [
    "def growth_reconstruction(column_list, df_state, binary_matrix):\n",
    "    \n",
    "    mod = cobra.io.read_sbml_model(input_model)\n",
    "    \n",
    "    filtered_matrix = binary_matrix[column_list]\n",
    "    mask = filtered_matrix.any(axis=1)\n",
    "    rxns = binary_matrix.loc[mask, \"Rxn name\"].tolist()\n",
    "    \n",
    "    rxns.extend([\"MAR07861\", \"MAR07862\", \"MAR07857\"]) # add reactions for A, G, T into the nucleus\n",
    "    \n",
    "    b = []\n",
    "    for r in mod.reactions:\n",
    "        b.append(mod.reactions.get_by_id(r.id))\n",
    "#    len(b)\n",
    "    \n",
    "    c = [item.id for item in b if item.id not in rxns]\n",
    "    \n",
    "    mod.remove_reactions(c)\n",
    "    len(mod.reactions)\n",
    "    \n",
    "    a = mod.exchanges\n",
    "    b = []\n",
    "    for r in a:\n",
    "        b.append(r.id)\n",
    "    # print(len(b))\n",
    "    for r in b:\n",
    "        mod.reactions.get_by_id(r).upper_bound = 1000\n",
    "        mod.reactions.get_by_id(r).lower_bound = 0\n",
    "\n",
    "    for r in min_media_comp:\n",
    "        mod.reactions.get_by_id(r).lower_bound = -1000\n",
    "    \n",
    "    for index, row in df_state.iterrows():\n",
    "        metabolite = row['metabolite']\n",
    "    \n",
    "        if metabolite in metabolite_to_reaction:\n",
    "            reaction_id = metabolite_to_reaction[metabolite]\n",
    "            try:\n",
    "                reaction = mod.reactions.get_by_id(reaction_id)\n",
    "                reaction.lower_bound = row['lb']\n",
    "                reaction.upper_bound = row['ub']\n",
    "#                print(f\"Set bounds for {reaction_id}: lower = {row['lb']}, upper = {row['ub']}\")\n",
    "            except KeyError:\n",
    "                print(f\"Reaction {reaction_id} not found in the model.\")\n",
    "        else:\n",
    "            continue\n",
    "            print(f\"Metabolite {metabolite} not found in the dictionary.\")\n",
    "    \n",
    "    mod.objective = \"MAR13082\"\n",
    "    growth_rate = mod.optimize().objective_value\n",
    "    \n",
    "    mod.add_reactions([vp1_reaction,\n",
    "                   vp2_reaction,\n",
    "                   vp3_reaction,\n",
    "                   capsid_reaction, \n",
    "                   target_gene_reaction,\n",
    "                   assembly_reaction,\n",
    "                   prod_transport_reaction,\n",
    "                   prod_export_reaction,\n",
    "                   prod_sink_reaction])\n",
    "    \n",
    "    mod.add_reactions([ala_reaction,\n",
    "                  arg_reaction,\n",
    "                  asn_reaction,\n",
    "                  asp_reaction,\n",
    "                  cys_reaction,\n",
    "                  gln_reaction,\n",
    "                  glu_reaction,\n",
    "                  gly_reaction,\n",
    "                  his_reaction,\n",
    "                  ile_reaction,\n",
    "                  leu_reaction,\n",
    "                  lys_reaction,\n",
    "                  met_reaction,\n",
    "                  phe_reaction,\n",
    "                  pro_reaction,\n",
    "                  ser_reaction,\n",
    "                  thr_reaction,\n",
    "                  trp_reaction,\n",
    "                  tyr_reaction,\n",
    "                  val_reaction])\n",
    "    \n",
    "    orphan_metabolites = [m for m in mod.metabolites if len(m.reactions) == 0]\n",
    "    mod.remove_metabolites(orphan_metabolites)\n",
    "    \n",
    "    # Remove orphan genes (not associated with any reactions)\n",
    "    orphan_genes = [g for g in mod.genes if len(g.reactions) == 0]\n",
    "    mod.genes = [g for g in mod.genes if g not in orphan_genes]\n",
    "    \n",
    "    return growth_rate, mod"
   ]
  },
  {
   "cell_type": "code",
   "execution_count": 25,
   "id": "ac2510fd-6d44-4461-84e6-88978d484d93",
   "metadata": {
    "tags": []
   },
   "outputs": [
    {
     "name": "stderr",
     "output_type": "stream",
     "text": [
      "/home/users/lzehetner/.conda/envs/HEK_human1/lib/python3.7/site-packages/cobra/core/group.py:107: UserWarning: need to pass in a list\n",
      "  warn(\"need to pass in a list\")\n"
     ]
    }
   ],
   "source": [
    "hp_tr_4 = growth_reconstruction(P_T_04, df_hp_tr_4, reaction_matrix)\n",
    "hp_tr_24 = growth_reconstruction(P_T_24, df_hp_tr_24, reaction_matrix)\n",
    "hp_tr_48 = growth_reconstruction(P_T_48, df_hp_tr_48, reaction_matrix)\n",
    "hp_tr_72 = growth_reconstruction(P_T_72, df_hp_tr_72, reaction_matrix)\n",
    "\n",
    "hp_mo_4 = growth_reconstruction(P_M_04, df_hp_mo_4, reaction_matrix)\n",
    "hp_mo_24 = growth_reconstruction(P_M_24, df_hp_mo_24, reaction_matrix)\n",
    "hp_mo_48 = growth_reconstruction(P_M_48, df_hp_mo_48, reaction_matrix)\n",
    "hp_mo_72 = growth_reconstruction(P_M_72, df_hp_mo_72, reaction_matrix)\n",
    "\n",
    "lp_tr_4 = growth_reconstruction(I_T_04, df_lp_tr_4, reaction_matrix)\n",
    "lp_tr_24 = growth_reconstruction(I_T_24, df_lp_tr_24, reaction_matrix)\n",
    "lp_tr_48 = growth_reconstruction(I_T_48, df_lp_tr_48, reaction_matrix)\n",
    "lp_tr_72 = growth_reconstruction(I_T_72, df_lp_tr_72, reaction_matrix)\n",
    "\n",
    "lp_mo_4 = growth_reconstruction(I_M_04, df_lp_mo_4, reaction_matrix)\n",
    "lp_mo_24 = growth_reconstruction(I_M_24, df_lp_mo_24, reaction_matrix)\n",
    "lp_mo_48 = growth_reconstruction(I_M_48, df_lp_mo_48, reaction_matrix)\n",
    "lp_mo_72 = growth_reconstruction(I_M_72, df_lp_mo_72, reaction_matrix)"
   ]
  },
  {
   "cell_type": "code",
   "execution_count": 58,
   "id": "6c290bc5-166f-48f9-b673-deaef90b343c",
   "metadata": {
    "tags": []
   },
   "outputs": [],
   "source": [
    "hp_tr_4_mu = hp_tr_4[0]\n",
    "hp_tr_24_mu = hp_tr_24[0]\n",
    "hp_tr_48_mu = hp_tr_48[0]\n",
    "hp_tr_72_mu = hp_tr_72[0]\n",
    "\n",
    "hp_mo_4_mu = hp_mo_4[0]\n",
    "hp_mo_24_mu = hp_mo_24[0]\n",
    "hp_mo_48_mu = hp_mo_48[0]\n",
    "hp_mo_72_mu = hp_mo_72[0]\n",
    "\n",
    "lp_tr_4_mu = lp_tr_4[0]\n",
    "lp_tr_24_mu = lp_tr_24[0]\n",
    "lp_tr_48_mu = lp_tr_48[0]\n",
    "lp_tr_72_mu = lp_tr_72[0]\n",
    "\n",
    "lp_mo_4_mu = lp_mo_4[0]\n",
    "lp_mo_24_mu = lp_mo_24[0]\n",
    "lp_mo_48_mu = lp_mo_48[0]\n",
    "lp_mo_72_mu = lp_mo_72[0]"
   ]
  },
  {
   "cell_type": "code",
   "execution_count": 59,
   "id": "25b9610b-9837-4b2f-bda6-4878705e02e7",
   "metadata": {
    "tags": []
   },
   "outputs": [
    {
     "name": "stdout",
     "output_type": "stream",
     "text": [
      "0.016141974581118122\n",
      "0.008975957354122868\n",
      "0.005186897465820183\n",
      "0.0033699183826140827\n",
      "0.018273388694063097\n",
      "0.008567985705474077\n",
      "0.0045438993839883295\n",
      "0.00245141366987891\n",
      "0.014447010878151872\n",
      "0.008156842814106663\n",
      "0.0045441543496113805\n",
      "0.002520109143825087\n",
      "0.010674391599446498\n",
      "0.006967827612437529\n",
      "0.004639836144421813\n",
      "0.0025172595224458596\n"
     ]
    }
   ],
   "source": [
    "print(hp_tr_4_mu)\n",
    "print(hp_tr_24_mu)\n",
    "print(hp_tr_48_mu)\n",
    "print(hp_tr_72_mu)\n",
    "\n",
    "print(hp_mo_4_mu)\n",
    "print(hp_mo_24_mu)\n",
    "print(hp_mo_48_mu)\n",
    "print(hp_mo_72_mu)\n",
    "\n",
    "print(lp_tr_4_mu)\n",
    "print(lp_tr_24_mu)\n",
    "print(lp_tr_48_mu)\n",
    "print(lp_tr_72_mu)\n",
    "\n",
    "print(lp_mo_4_mu)\n",
    "print(lp_mo_24_mu)\n",
    "print(lp_mo_48_mu)\n",
    "print(lp_mo_72_mu)"
   ]
  },
  {
   "cell_type": "code",
   "execution_count": 61,
   "id": "72361a45-de26-41dd-add2-706d5b62d21c",
   "metadata": {
    "tags": []
   },
   "outputs": [],
   "source": [
    "mu_pred = [hp_tr_4_mu, \n",
    "           hp_tr_24_mu,\n",
    "           hp_tr_48_mu,\n",
    "           hp_tr_72_mu,\n",
    "           hp_mo_4_mu,\n",
    "           hp_mo_24_mu,\n",
    "           hp_mo_48_mu,\n",
    "           hp_mo_72_mu,\n",
    "           lp_tr_4_mu,\n",
    "           lp_tr_24_mu,\n",
    "           lp_tr_48_mu,\n",
    "           lp_tr_72_mu,\n",
    "           lp_mo_4_mu,\n",
    "           lp_mo_24_mu,\n",
    "           lp_mo_48_mu,\n",
    "           lp_mo_72_mu\n",
    "          ]"
   ]
  },
  {
   "cell_type": "code",
   "execution_count": 715,
   "id": "2f163e3d-9288-4991-bc19-6689edf747e8",
   "metadata": {
    "tags": []
   },
   "outputs": [],
   "source": [
    "## safe growth rates to file"
   ]
  },
  {
   "cell_type": "code",
   "execution_count": 716,
   "id": "ada9af99-f823-4eed-8481-df305f9f60b0",
   "metadata": {
    "tags": []
   },
   "outputs": [],
   "source": [
    "growth_rates = \"/home/users/lzehetner/data/hek/growth_results.csv\"\n",
    "mu = pd.read_csv(growth_rates)"
   ]
  },
  {
   "cell_type": "code",
   "execution_count": 717,
   "id": "8381a70a-5eba-49e2-a1ad-3aae8c2a0cf4",
   "metadata": {
    "tags": []
   },
   "outputs": [],
   "source": [
    "mu['mu_predicted'] = mu_pred"
   ]
  },
  {
   "cell_type": "code",
   "execution_count": 718,
   "id": "098fd1c2-52a9-4927-b58d-f8b03a413512",
   "metadata": {
    "tags": []
   },
   "outputs": [
    {
     "data": {
      "text/html": [
       "<div>\n",
       "<style scoped>\n",
       "    .dataframe tbody tr th:only-of-type {\n",
       "        vertical-align: middle;\n",
       "    }\n",
       "\n",
       "    .dataframe tbody tr th {\n",
       "        vertical-align: top;\n",
       "    }\n",
       "\n",
       "    .dataframe thead th {\n",
       "        text-align: right;\n",
       "    }\n",
       "</style>\n",
       "<table border=\"1\" class=\"dataframe\">\n",
       "  <thead>\n",
       "    <tr style=\"text-align: right;\">\n",
       "      <th></th>\n",
       "      <th>state</th>\n",
       "      <th>timepoint</th>\n",
       "      <th>bm</th>\n",
       "      <th>err</th>\n",
       "      <th>err_perc</th>\n",
       "      <th>mu</th>\n",
       "      <th>mu_error</th>\n",
       "      <th>mu_err_perc</th>\n",
       "      <th>mu_predicted</th>\n",
       "    </tr>\n",
       "  </thead>\n",
       "  <tbody>\n",
       "    <tr>\n",
       "      <th>0</th>\n",
       "      <td>HP_TR</td>\n",
       "      <td>4</td>\n",
       "      <td>1.515022</td>\n",
       "      <td>0.137994</td>\n",
       "      <td>0.091084</td>\n",
       "      <td>0.027693</td>\n",
       "      <td>0.008333</td>\n",
       "      <td>0.300925</td>\n",
       "      <td>0.016142</td>\n",
       "    </tr>\n",
       "    <tr>\n",
       "      <th>1</th>\n",
       "      <td>HP_TR</td>\n",
       "      <td>24</td>\n",
       "      <td>2.218413</td>\n",
       "      <td>0.219476</td>\n",
       "      <td>0.098934</td>\n",
       "      <td>0.011704</td>\n",
       "      <td>0.001761</td>\n",
       "      <td>0.150494</td>\n",
       "      <td>0.008976</td>\n",
       "    </tr>\n",
       "    <tr>\n",
       "      <th>2</th>\n",
       "      <td>HP_TR</td>\n",
       "      <td>48</td>\n",
       "      <td>2.597572</td>\n",
       "      <td>0.173463</td>\n",
       "      <td>0.066779</td>\n",
       "      <td>0.003085</td>\n",
       "      <td>0.001561</td>\n",
       "      <td>0.506077</td>\n",
       "      <td>0.005187</td>\n",
       "    </tr>\n",
       "    <tr>\n",
       "      <th>3</th>\n",
       "      <td>HP_TR</td>\n",
       "      <td>72</td>\n",
       "      <td>2.701514</td>\n",
       "      <td>0.143858</td>\n",
       "      <td>0.053251</td>\n",
       "      <td>0.000722</td>\n",
       "      <td>0.000707</td>\n",
       "      <td>0.978518</td>\n",
       "      <td>0.003370</td>\n",
       "    </tr>\n",
       "    <tr>\n",
       "      <th>4</th>\n",
       "      <td>HP_MO</td>\n",
       "      <td>4</td>\n",
       "      <td>1.457584</td>\n",
       "      <td>0.145613</td>\n",
       "      <td>0.099900</td>\n",
       "      <td>0.039457</td>\n",
       "      <td>0.009583</td>\n",
       "      <td>0.242861</td>\n",
       "      <td>0.018273</td>\n",
       "    </tr>\n",
       "    <tr>\n",
       "      <th>5</th>\n",
       "      <td>HP_MO</td>\n",
       "      <td>24</td>\n",
       "      <td>2.487340</td>\n",
       "      <td>0.206876</td>\n",
       "      <td>0.083172</td>\n",
       "      <td>0.015540</td>\n",
       "      <td>0.002227</td>\n",
       "      <td>0.143279</td>\n",
       "      <td>0.008568</td>\n",
       "    </tr>\n",
       "    <tr>\n",
       "      <th>6</th>\n",
       "      <td>HP_MO</td>\n",
       "      <td>48</td>\n",
       "      <td>3.016759</td>\n",
       "      <td>0.164043</td>\n",
       "      <td>0.054377</td>\n",
       "      <td>0.003245</td>\n",
       "      <td>0.001385</td>\n",
       "      <td>0.426961</td>\n",
       "      <td>0.004544</td>\n",
       "    </tr>\n",
       "    <tr>\n",
       "      <th>7</th>\n",
       "      <td>HP_MO</td>\n",
       "      <td>72</td>\n",
       "      <td>3.131497</td>\n",
       "      <td>0.143174</td>\n",
       "      <td>0.045721</td>\n",
       "      <td>0.000580</td>\n",
       "      <td>0.000487</td>\n",
       "      <td>0.840131</td>\n",
       "      <td>0.002451</td>\n",
       "    </tr>\n",
       "    <tr>\n",
       "      <th>8</th>\n",
       "      <td>LP_TR</td>\n",
       "      <td>4</td>\n",
       "      <td>1.919845</td>\n",
       "      <td>0.196343</td>\n",
       "      <td>0.102270</td>\n",
       "      <td>0.024581</td>\n",
       "      <td>0.008125</td>\n",
       "      <td>0.330548</td>\n",
       "      <td>0.014447</td>\n",
       "    </tr>\n",
       "    <tr>\n",
       "      <th>9</th>\n",
       "      <td>LP_TR</td>\n",
       "      <td>24</td>\n",
       "      <td>2.745990</td>\n",
       "      <td>0.312127</td>\n",
       "      <td>0.113666</td>\n",
       "      <td>0.011963</td>\n",
       "      <td>0.002223</td>\n",
       "      <td>0.185816</td>\n",
       "      <td>0.008157</td>\n",
       "    </tr>\n",
       "    <tr>\n",
       "      <th>10</th>\n",
       "      <td>LP_TR</td>\n",
       "      <td>48</td>\n",
       "      <td>3.273168</td>\n",
       "      <td>0.282512</td>\n",
       "      <td>0.086311</td>\n",
       "      <td>0.003911</td>\n",
       "      <td>0.001601</td>\n",
       "      <td>0.409387</td>\n",
       "      <td>0.004544</td>\n",
       "    </tr>\n",
       "    <tr>\n",
       "      <th>11</th>\n",
       "      <td>LP_TR</td>\n",
       "      <td>72</td>\n",
       "      <td>3.455084</td>\n",
       "      <td>0.234663</td>\n",
       "      <td>0.067918</td>\n",
       "      <td>0.001132</td>\n",
       "      <td>0.000971</td>\n",
       "      <td>0.857850</td>\n",
       "      <td>0.002520</td>\n",
       "    </tr>\n",
       "    <tr>\n",
       "      <th>12</th>\n",
       "      <td>LP_MO</td>\n",
       "      <td>4</td>\n",
       "      <td>2.059241</td>\n",
       "      <td>0.464943</td>\n",
       "      <td>0.225784</td>\n",
       "      <td>0.029732</td>\n",
       "      <td>0.018570</td>\n",
       "      <td>0.624583</td>\n",
       "      <td>0.010674</td>\n",
       "    </tr>\n",
       "    <tr>\n",
       "      <th>13</th>\n",
       "      <td>LP_MO</td>\n",
       "      <td>24</td>\n",
       "      <td>2.866233</td>\n",
       "      <td>0.472283</td>\n",
       "      <td>0.164775</td>\n",
       "      <td>0.007249</td>\n",
       "      <td>0.005869</td>\n",
       "      <td>0.809640</td>\n",
       "      <td>0.006968</td>\n",
       "    </tr>\n",
       "    <tr>\n",
       "      <th>14</th>\n",
       "      <td>LP_MO</td>\n",
       "      <td>48</td>\n",
       "      <td>3.091712</td>\n",
       "      <td>0.260936</td>\n",
       "      <td>0.084398</td>\n",
       "      <td>0.000967</td>\n",
       "      <td>0.002363</td>\n",
       "      <td>2.445000</td>\n",
       "      <td>0.004640</td>\n",
       "    </tr>\n",
       "    <tr>\n",
       "      <th>15</th>\n",
       "      <td>LP_MO</td>\n",
       "      <td>72</td>\n",
       "      <td>3.122075</td>\n",
       "      <td>0.239630</td>\n",
       "      <td>0.076753</td>\n",
       "      <td>0.000121</td>\n",
       "      <td>0.000480</td>\n",
       "      <td>3.975000</td>\n",
       "      <td>0.002517</td>\n",
       "    </tr>\n",
       "  </tbody>\n",
       "</table>\n",
       "</div>"
      ],
      "text/plain": [
       "    state  timepoint        bm       err  err_perc        mu  mu_error  \\\n",
       "0   HP_TR          4  1.515022  0.137994  0.091084  0.027693  0.008333   \n",
       "1   HP_TR         24  2.218413  0.219476  0.098934  0.011704  0.001761   \n",
       "2   HP_TR         48  2.597572  0.173463  0.066779  0.003085  0.001561   \n",
       "3   HP_TR         72  2.701514  0.143858  0.053251  0.000722  0.000707   \n",
       "4   HP_MO          4  1.457584  0.145613  0.099900  0.039457  0.009583   \n",
       "5   HP_MO         24  2.487340  0.206876  0.083172  0.015540  0.002227   \n",
       "6   HP_MO         48  3.016759  0.164043  0.054377  0.003245  0.001385   \n",
       "7   HP_MO         72  3.131497  0.143174  0.045721  0.000580  0.000487   \n",
       "8   LP_TR          4  1.919845  0.196343  0.102270  0.024581  0.008125   \n",
       "9   LP_TR         24  2.745990  0.312127  0.113666  0.011963  0.002223   \n",
       "10  LP_TR         48  3.273168  0.282512  0.086311  0.003911  0.001601   \n",
       "11  LP_TR         72  3.455084  0.234663  0.067918  0.001132  0.000971   \n",
       "12  LP_MO          4  2.059241  0.464943  0.225784  0.029732  0.018570   \n",
       "13  LP_MO         24  2.866233  0.472283  0.164775  0.007249  0.005869   \n",
       "14  LP_MO         48  3.091712  0.260936  0.084398  0.000967  0.002363   \n",
       "15  LP_MO         72  3.122075  0.239630  0.076753  0.000121  0.000480   \n",
       "\n",
       "    mu_err_perc  mu_predicted  \n",
       "0      0.300925      0.016142  \n",
       "1      0.150494      0.008976  \n",
       "2      0.506077      0.005187  \n",
       "3      0.978518      0.003370  \n",
       "4      0.242861      0.018273  \n",
       "5      0.143279      0.008568  \n",
       "6      0.426961      0.004544  \n",
       "7      0.840131      0.002451  \n",
       "8      0.330548      0.014447  \n",
       "9      0.185816      0.008157  \n",
       "10     0.409387      0.004544  \n",
       "11     0.857850      0.002520  \n",
       "12     0.624583      0.010674  \n",
       "13     0.809640      0.006968  \n",
       "14     2.445000      0.004640  \n",
       "15     3.975000      0.002517  "
      ]
     },
     "execution_count": 718,
     "metadata": {},
     "output_type": "execute_result"
    }
   ],
   "source": [
    "mu"
   ]
  },
  {
   "cell_type": "code",
   "execution_count": 719,
   "id": "5cea82e9-3a51-42d1-9570-cee948714435",
   "metadata": {
    "tags": []
   },
   "outputs": [],
   "source": [
    "output_mu = \"/home/users/lzehetner/data/hek/growth_results_w_pred.csv\"\n",
    "mu.to_csv(output_mu, index=False, header=True)"
   ]
  },
  {
   "cell_type": "code",
   "execution_count": null,
   "id": "b9c87c15-edc2-4c7d-b2ac-c1640ad24e5e",
   "metadata": {},
   "outputs": [],
   "source": []
  },
  {
   "cell_type": "code",
   "execution_count": null,
   "id": "ea9f19c9-d8b6-4fe9-8a86-0a637aa3d571",
   "metadata": {},
   "outputs": [],
   "source": [
    "## Calculate alpha so that it is calculated how much resources go into bm and how much into product"
   ]
  },
  {
   "cell_type": "code",
   "execution_count": 62,
   "id": "391dca30-1e73-4b32-8b5b-6f2fc05287f4",
   "metadata": {
    "tags": []
   },
   "outputs": [],
   "source": [
    "bm = 'MAR13082'\n",
    "prod = 'MAR_SINK'"
   ]
  },
  {
   "cell_type": "code",
   "execution_count": 26,
   "id": "283d9c3d-8982-4951-a343-2f8aa2765583",
   "metadata": {
    "tags": []
   },
   "outputs": [],
   "source": [
    "hp_tr_4_model = hp_tr_4[1]\n",
    "hp_tr_24_model = hp_tr_24[1]\n",
    "hp_tr_48_model = hp_tr_48[1]\n",
    "hp_tr_72_model = hp_tr_72[1]\n",
    "\n",
    "hp_mo_4_model = hp_mo_4[1]\n",
    "hp_mo_24_model = hp_mo_24[1]\n",
    "hp_mo_48_model = hp_mo_48[1]\n",
    "hp_mo_72_model = hp_mo_72[1]\n",
    "\n",
    "lp_tr_4_model = lp_tr_4[1]\n",
    "lp_tr_24_model = lp_tr_24[1]\n",
    "lp_tr_48_model = lp_tr_48[1]\n",
    "lp_tr_72_model = lp_tr_72[1]\n",
    "\n",
    "lp_mo_4_model = lp_mo_4[1]\n",
    "lp_mo_24_model = lp_mo_24[1]\n",
    "lp_mo_48_model = lp_mo_48[1]\n",
    "lp_mo_72_model = lp_mo_72[1]"
   ]
  },
  {
   "cell_type": "code",
   "execution_count": 85,
   "id": "93999dd1-9967-4f3f-871c-362110d2dd9e",
   "metadata": {
    "tags": []
   },
   "outputs": [
    {
     "name": "stdout",
     "output_type": "stream",
     "text": [
      "9074\n",
      "9137\n",
      "9152\n",
      "9188\n",
      "9123\n",
      "9132\n",
      "9130\n",
      "9108\n",
      "9095\n",
      "9074\n",
      "9020\n",
      "9155\n",
      "9088\n",
      "9050\n",
      "9084\n",
      "8993\n"
     ]
    }
   ],
   "source": [
    "print(len(hp_tr_4_model.reactions))\n",
    "print(len(hp_tr_24_model.reactions))\n",
    "print(len(hp_tr_48_model.reactions))\n",
    "print(len(hp_tr_72_model.reactions))\n",
    "\n",
    "print(len(hp_mo_4_model.reactions))\n",
    "print(len(hp_mo_24_model.reactions))\n",
    "print(len(hp_mo_48_model.reactions))\n",
    "print(len(hp_mo_72_model.reactions))\n",
    "\n",
    "print(len(lp_tr_4_model.reactions))\n",
    "print(len(lp_tr_24_model.reactions))\n",
    "print(len(lp_tr_48_model.reactions))\n",
    "print(len(lp_tr_72_model.reactions))\n",
    "\n",
    "print(len(lp_mo_4_model.reactions))\n",
    "print(len(lp_mo_24_model.reactions))\n",
    "print(len(lp_mo_48_model.reactions))\n",
    "print(len(lp_mo_72_model.reactions))"
   ]
  },
  {
   "cell_type": "code",
   "execution_count": 86,
   "id": "718b33e1-a6a9-44bb-a805-b35ef48704ee",
   "metadata": {
    "tags": []
   },
   "outputs": [
    {
     "name": "stdout",
     "output_type": "stream",
     "text": [
      "6196\n",
      "6226\n",
      "6232\n",
      "6245\n",
      "6224\n",
      "6214\n",
      "6205\n",
      "6206\n",
      "6203\n",
      "6256\n",
      "6214\n",
      "6243\n",
      "6189\n",
      "6194\n",
      "6230\n",
      "6205\n"
     ]
    }
   ],
   "source": [
    "print(len(hp_tr_4_model.metabolites))\n",
    "print(len(hp_tr_24_model.metabolites))\n",
    "print(len(hp_tr_48_model.metabolites))\n",
    "print(len(hp_tr_72_model.metabolites))\n",
    "\n",
    "print(len(hp_mo_4_model.metabolites))\n",
    "print(len(hp_mo_24_model.metabolites))\n",
    "print(len(hp_mo_48_model.metabolites))\n",
    "print(len(hp_mo_72_model.metabolites))\n",
    "\n",
    "print(len(lp_tr_4_model.metabolites))\n",
    "print(len(lp_tr_24_model.metabolites))\n",
    "print(len(lp_tr_48_model.metabolites))\n",
    "print(len(lp_tr_72_model.metabolites))\n",
    "\n",
    "print(len(lp_mo_4_model.metabolites))\n",
    "print(len(lp_mo_24_model.metabolites))\n",
    "print(len(lp_mo_48_model.metabolites))\n",
    "print(len(lp_mo_72_model.metabolites))"
   ]
  },
  {
   "cell_type": "code",
   "execution_count": 88,
   "id": "bb784ab9-6a67-4aa6-87ff-449dcc38c130",
   "metadata": {
    "tags": []
   },
   "outputs": [
    {
     "name": "stdout",
     "output_type": "stream",
     "text": [
      "3112\n",
      "3116\n",
      "3116\n",
      "3109\n",
      "3116\n",
      "3112\n",
      "3117\n",
      "3116\n",
      "3114\n",
      "3115\n",
      "3113\n",
      "3116\n",
      "3116\n",
      "3116\n",
      "3109\n",
      "3115\n"
     ]
    }
   ],
   "source": [
    "print(len(hp_tr_4_model.genes))\n",
    "print(len(hp_tr_24_model.genes))\n",
    "print(len(hp_tr_48_model.genes))\n",
    "print(len(hp_tr_72_model.genes))\n",
    "\n",
    "print(len(hp_mo_4_model.genes))\n",
    "print(len(hp_mo_24_model.genes))\n",
    "print(len(hp_mo_48_model.genes))\n",
    "print(len(hp_mo_72_model.genes))\n",
    "\n",
    "print(len(lp_tr_4_model.genes))\n",
    "print(len(lp_tr_24_model.genes))\n",
    "print(len(lp_tr_48_model.genes))\n",
    "print(len(lp_tr_72_model.genes))\n",
    "\n",
    "print(len(lp_mo_4_model.genes))\n",
    "print(len(lp_mo_24_model.genes))\n",
    "print(len(lp_mo_48_model.genes))\n",
    "print(len(lp_mo_72_model.genes))"
   ]
  },
  {
   "cell_type": "code",
   "execution_count": null,
   "id": "68ced2b0-2096-4cea-ba4a-9996652936aa",
   "metadata": {},
   "outputs": [],
   "source": [
    "## Reconstruct experimental production rates based on experimental values"
   ]
  },
  {
   "cell_type": "code",
   "execution_count": null,
   "id": "2ca4cca5-22c8-413f-ad7f-aa276ab8ad07",
   "metadata": {},
   "outputs": [],
   "source": [
    "#### HP"
   ]
  },
  {
   "cell_type": "code",
   "execution_count": 912,
   "id": "48460d00-995a-4c82-872a-82aa570b3bba",
   "metadata": {
    "tags": []
   },
   "outputs": [],
   "source": [
    "experimental_qp = 4.177e-8"
   ]
  },
  {
   "cell_type": "code",
   "execution_count": 913,
   "id": "cfb7de41-4111-439e-b318-73bd2f96ef73",
   "metadata": {
    "tags": []
   },
   "outputs": [
    {
     "name": "stdout",
     "output_type": "stream",
     "text": [
      "differential_evolution step 1: f(x)= 6.74655e-13\n",
      "differential_evolution step 2: f(x)= 6.74655e-13\n",
      "differential_evolution step 3: f(x)= 2.57621e-15\n",
      "differential_evolution step 4: f(x)= 2.57621e-15\n",
      "differential_evolution step 5: f(x)= 2.57621e-15\n",
      "differential_evolution step 6: f(x)= 4.09811e-16\n",
      "differential_evolution step 7: f(x)= 4.09811e-16\n",
      "differential_evolution step 8: f(x)= 4.09811e-16\n",
      "differential_evolution step 9: f(x)= 4.09811e-16\n",
      "differential_evolution step 10: f(x)= 4.09811e-16\n",
      "Optimal alpha: 0.9997094664093564\n",
      "Minimal squared difference: 4.098108215154372e-16\n"
     ]
    }
   ],
   "source": [
    "def objective_function(alpha):\n",
    "    alpha = alpha[0]  # Extract alpha since differential_evolution uses arrays\n",
    "    # Your existing implementation here\n",
    "    hp_tr_24_model.objective = 'MAR13082'\n",
    "    max_biomass = hp_tr_24_model.optimize().objective_value\n",
    "#    print(max_biomass)\n",
    "    \n",
    "    # Set the lower bound of the biomass to the optimized value multiplied by alpha\n",
    "    hp_tr_24_model.reactions.get_by_id(\"MAR13082\").lower_bound = max_biomass * alpha\n",
    "\n",
    "    # Simulate the model\n",
    "    solution = hp_tr_24_model.optimize()\n",
    "    \n",
    "    hp_tr_24_model.objective = 'MAR_SINK'\n",
    "    solution = hp_tr_24_model.optimize()\n",
    "    simulated_qp = solution.objective_value\n",
    "#    print(simulated_qp)\n",
    "    \n",
    "    # Calculate the squared difference\n",
    "    squared_difference = (simulated_qp * 24 - experimental_qp) ** 2\n",
    "#    print(squared_difference)\n",
    "    return squared_difference\n",
    "# Run the differential evolution algorithm\n",
    "result = differential_evolution(objective_function, bounds=[(0, 1)], strategy='best1bin', maxiter=10, popsize=15, tol=1e-7, mutation=(0.5, 1), recombination=0.7, disp=True)\n",
    "\n",
    "# Print the results\n",
    "print(\"Optimal alpha:\", result.x[0])\n",
    "print(\"Minimal squared difference:\", result.fun)"
   ]
  },
  {
   "cell_type": "code",
   "execution_count": 914,
   "id": "9d8a1086-0038-42f8-96b0-60f492f90dab",
   "metadata": {
    "tags": []
   },
   "outputs": [],
   "source": [
    "experimental_qp = 7.136e-8 - 4.177e-8"
   ]
  },
  {
   "cell_type": "code",
   "execution_count": 915,
   "id": "367b8926-d522-4557-a3d0-ef85b3db9d3c",
   "metadata": {
    "tags": []
   },
   "outputs": [
    {
     "name": "stdout",
     "output_type": "stream",
     "text": [
      "differential_evolution step 1: f(x)= 4.85328e-14\n",
      "differential_evolution step 2: f(x)= 4.85328e-14\n"
     ]
    },
    {
     "name": "stderr",
     "output_type": "stream",
     "text": [
      "/home/users/lzehetner/.conda/envs/HEK_human1/lib/python3.7/site-packages/cobra/util/solver.py:554: UserWarning: Solver status is 'infeasible'.\n",
      "  warn(f\"Solver status is '{status}'.\", UserWarning)\n"
     ]
    },
    {
     "name": "stdout",
     "output_type": "stream",
     "text": [
      "differential_evolution step 3: f(x)= 4.85328e-14\n",
      "differential_evolution step 4: f(x)= 1.19041e-14\n",
      "differential_evolution step 5: f(x)= 2.06874e-17\n",
      "differential_evolution step 6: f(x)= 2.06874e-17\n",
      "differential_evolution step 7: f(x)= 2.06874e-17\n",
      "differential_evolution step 8: f(x)= 2.06874e-17\n",
      "differential_evolution step 9: f(x)= 4.45456e-18\n",
      "differential_evolution step 10: f(x)= 8.50696e-20\n",
      "Optimal alpha: 0.9993020784457456\n",
      "Minimal squared difference: 8.506958848628382e-20\n"
     ]
    }
   ],
   "source": [
    "def objective_function(alpha):\n",
    "    alpha = alpha[0]  # Extract alpha since differential_evolution uses arrays\n",
    "    # Your existing implementation here\n",
    "    hp_tr_48_model.objective = 'MAR13082'\n",
    "    max_biomass = hp_tr_48_model.optimize().objective_value\n",
    "#    print(max_biomass)\n",
    "    \n",
    "    # Set the lower bound of the biomass to the optimized value multiplied by alpha\n",
    "    hp_tr_48_model.reactions.get_by_id(\"MAR13082\").lower_bound = max_biomass * alpha\n",
    "\n",
    "    # Simulate the model\n",
    "    solution = hp_tr_48_model.optimize()\n",
    "    \n",
    "    hp_tr_48_model.objective = 'MAR_SINK'\n",
    "    solution = hp_tr_48_model.optimize()\n",
    "    simulated_qp = solution.objective_value\n",
    "#    print(simulated_qp)\n",
    "    \n",
    "    # Calculate the squared difference\n",
    "    squared_difference = (simulated_qp * 24 - experimental_qp) ** 2\n",
    "#    print(squared_difference)\n",
    "    return squared_difference\n",
    "# Run the differential evolution algorithm\n",
    "result = differential_evolution(objective_function, bounds=[(0, 1)], strategy='best1bin', maxiter=10, popsize=15, tol=1e-7, mutation=(0.5, 1), recombination=0.7, disp=True)\n",
    "\n",
    "# Print the results\n",
    "print(\"Optimal alpha:\", result.x[0])\n",
    "print(\"Minimal squared difference:\", result.fun)"
   ]
  },
  {
   "cell_type": "code",
   "execution_count": 916,
   "id": "912d9e46-ad2c-40ef-baa5-4a51c1a0cf88",
   "metadata": {
    "tags": []
   },
   "outputs": [],
   "source": [
    "experimental_qp = 8.774e-8 - 7.136e-8"
   ]
  },
  {
   "cell_type": "code",
   "execution_count": 917,
   "id": "20f7633a-3b03-47c3-be16-d1eae67bc56c",
   "metadata": {
    "tags": []
   },
   "outputs": [
    {
     "name": "stderr",
     "output_type": "stream",
     "text": [
      "/home/users/lzehetner/.conda/envs/HEK_human1/lib/python3.7/site-packages/cobra/util/solver.py:554: UserWarning: Solver status is 'infeasible'.\n",
      "  warn(f\"Solver status is '{status}'.\", UserWarning)\n"
     ]
    },
    {
     "name": "stdout",
     "output_type": "stream",
     "text": [
      "differential_evolution step 1: f(x)= 3.36218e-15\n",
      "differential_evolution step 2: f(x)= 6.45123e-16\n",
      "differential_evolution step 3: f(x)= 2.32148e-16\n",
      "differential_evolution step 4: f(x)= 1.37934e-17\n",
      "differential_evolution step 5: f(x)= 1.90051e-18\n",
      "differential_evolution step 6: f(x)= 1.71826e-20\n",
      "differential_evolution step 7: f(x)= 1.71826e-20\n",
      "differential_evolution step 8: f(x)= 1.71826e-20\n",
      "differential_evolution step 9: f(x)= 1.71826e-20\n",
      "differential_evolution step 10: f(x)= 9.89364e-21\n",
      "Optimal alpha: 0.9981131329593219\n",
      "Minimal squared difference: 9.893639472333292e-21\n"
     ]
    }
   ],
   "source": [
    "def objective_function(alpha):\n",
    "    alpha = alpha[0]  # Extract alpha since differential_evolution uses arrays\n",
    "    # Your existing implementation here\n",
    "    hp_tr_72_model.objective = 'MAR13082'\n",
    "    max_biomass = hp_tr_72_model.optimize().objective_value\n",
    "#    print(max_biomass)\n",
    "    \n",
    "    # Set the lower bound of the biomass to the optimized value multiplied by alpha\n",
    "    hp_tr_72_model.reactions.get_by_id(\"MAR13082\").lower_bound = max_biomass * alpha\n",
    "\n",
    "    # Simulate the model\n",
    "    solution = hp_tr_72_model.optimize()\n",
    "    \n",
    "    hp_tr_72_model.objective = 'MAR_SINK'\n",
    "    solution = hp_tr_72_model.optimize()\n",
    "    simulated_qp = solution.objective_value\n",
    "#    print(simulated_qp)\n",
    "    \n",
    "    # Calculate the squared difference\n",
    "    squared_difference = (simulated_qp * 24 - experimental_qp) ** 2\n",
    "#    print(squared_difference)\n",
    "    return squared_difference\n",
    "# Run the differential evolution algorithm\n",
    "result = differential_evolution(objective_function, bounds=[(0, 1)], strategy='best1bin', maxiter=10, popsize=15, tol=1e-7, mutation=(0.5, 1), recombination=0.7, disp=True)\n",
    "\n",
    "# Print the results\n",
    "print(\"Optimal alpha:\", result.x[0])\n",
    "print(\"Minimal squared difference:\", result.fun)"
   ]
  },
  {
   "cell_type": "code",
   "execution_count": 918,
   "id": "cc22ba20-0ee1-4b79-a04b-7e703f3ffcf1",
   "metadata": {},
   "outputs": [],
   "source": [
    "#### LP"
   ]
  },
  {
   "cell_type": "code",
   "execution_count": 919,
   "id": "5429af50-f03b-4ee7-98a8-fb64bac68290",
   "metadata": {
    "tags": []
   },
   "outputs": [],
   "source": [
    "experimental_qp = 7.106e-9"
   ]
  },
  {
   "cell_type": "code",
   "execution_count": 920,
   "id": "79846e0f-da7d-4316-b713-1e9fce38ff50",
   "metadata": {
    "tags": []
   },
   "outputs": [
    {
     "name": "stderr",
     "output_type": "stream",
     "text": [
      "/home/users/lzehetner/.conda/envs/HEK_human1/lib/python3.7/site-packages/cobra/util/solver.py:554: UserWarning: Solver status is 'infeasible'.\n",
      "  warn(f\"Solver status is '{status}'.\", UserWarning)\n"
     ]
    },
    {
     "name": "stdout",
     "output_type": "stream",
     "text": [
      "differential_evolution step 1: f(x)= 3.93261e-13\n",
      "differential_evolution step 2: f(x)= 6.52985e-14\n",
      "differential_evolution step 3: f(x)= 6.52985e-14\n",
      "differential_evolution step 4: f(x)= 3.39127e-15\n",
      "differential_evolution step 5: f(x)= 5.8809e-21\n",
      "differential_evolution step 6: f(x)= 5.8809e-21\n",
      "differential_evolution step 7: f(x)= 5.8809e-21\n",
      "differential_evolution step 8: f(x)= 7.02833e-22\n",
      "differential_evolution step 9: f(x)= 7.02833e-22\n",
      "differential_evolution step 10: f(x)= 7.02833e-22\n",
      "Optimal alpha: 0.9997851194106243\n",
      "Minimal squared difference: 7.0283275847470295e-22\n"
     ]
    }
   ],
   "source": [
    "def objective_function(alpha):\n",
    "    alpha = alpha[0]  # Extract alpha since differential_evolution uses arrays\n",
    "    # Your existing implementation here\n",
    "    lp_tr_24_model.objective = 'MAR13082'\n",
    "    max_biomass = lp_tr_24_model.optimize().objective_value\n",
    "#    print(max_biomass)\n",
    "    \n",
    "    # Set the lower bound of the biomass to the optimized value multiplied by alpha\n",
    "    lp_tr_24_model.reactions.get_by_id(\"MAR13082\").lower_bound = max_biomass * alpha\n",
    "\n",
    "    # Simulate the model\n",
    "    solution = lp_tr_24_model.optimize()\n",
    "    \n",
    "    lp_tr_24_model.objective = 'MAR_SINK'\n",
    "    solution = lp_tr_24_model.optimize()\n",
    "    simulated_qp = solution.objective_value\n",
    "#    print(simulated_qp)\n",
    "    \n",
    "    # Calculate the squared difference\n",
    "    squared_difference = (simulated_qp * 24 - experimental_qp) ** 2\n",
    "#    print(squared_difference)\n",
    "    return squared_difference\n",
    "# Run the differential evolution algorithm\n",
    "result = differential_evolution(objective_function, bounds=[(0, 1)], strategy='best1bin', maxiter=10, popsize=15, tol=1e-7, mutation=(0.5, 1), recombination=0.7, disp=True)\n",
    "\n",
    "# Print the results\n",
    "print(\"Optimal alpha:\", result.x[0])\n",
    "print(\"Minimal squared difference:\", result.fun)"
   ]
  },
  {
   "cell_type": "code",
   "execution_count": 921,
   "id": "684f2943-f5c5-48a6-86e3-a563d691a297",
   "metadata": {
    "tags": []
   },
   "outputs": [],
   "source": [
    "experimental_qp = 1.421e-8 - 7.106e-9"
   ]
  },
  {
   "cell_type": "code",
   "execution_count": 922,
   "id": "9cbbf7b6-097f-4a90-9d2c-00ad5b297541",
   "metadata": {
    "tags": []
   },
   "outputs": [
    {
     "name": "stdout",
     "output_type": "stream",
     "text": [
      "differential_evolution step 1: f(x)= 6.39587e-14\n",
      "differential_evolution step 2: f(x)= 1.82738e-17\n",
      "differential_evolution step 3: f(x)= 1.82738e-17\n",
      "differential_evolution step 4: f(x)= 1.82738e-17\n",
      "differential_evolution step 5: f(x)= 1.82738e-17\n",
      "differential_evolution step 6: f(x)= 1.82738e-17\n",
      "differential_evolution step 7: f(x)= 1.82738e-17\n",
      "differential_evolution step 8: f(x)= 1.82738e-17\n",
      "differential_evolution step 9: f(x)= 1.82738e-17\n",
      "differential_evolution step 10: f(x)= 9.22322e-18\n",
      "Optimal alpha: 0.9996546645515525\n",
      "Minimal squared difference: 9.223224701770966e-18\n"
     ]
    }
   ],
   "source": [
    "def objective_function(alpha):\n",
    "    alpha = alpha[0]  # Extract alpha since differential_evolution uses arrays\n",
    "    # Your existing implementation here\n",
    "    lp_tr_48_model.objective = 'MAR13082'\n",
    "    max_biomass = lp_tr_48_model.optimize().objective_value\n",
    "#    print(max_biomass)\n",
    "    \n",
    "    # Set the lower bound of the biomass to the optimized value multiplied by alpha\n",
    "    lp_tr_48_model.reactions.get_by_id(\"MAR13082\").lower_bound = max_biomass * alpha\n",
    "\n",
    "    # Simulate the model\n",
    "    solution = lp_tr_48_model.optimize()\n",
    "    \n",
    "    lp_tr_48_model.objective = 'MAR_SINK'\n",
    "    solution = lp_tr_48_model.optimize()\n",
    "    simulated_qp = solution.objective_value\n",
    "#    print(simulated_qp)\n",
    "    \n",
    "    # Calculate the squared difference\n",
    "    squared_difference = (simulated_qp * 24 - experimental_qp) ** 2\n",
    "#    print(squared_difference)\n",
    "    return squared_difference\n",
    "# Run the differential evolution algorithm\n",
    "result = differential_evolution(objective_function, bounds=[(0, 1)], strategy='best1bin', maxiter=10, popsize=15, tol=1e-7, mutation=(0.5, 1), recombination=0.7, disp=True)\n",
    "\n",
    "# Print the results\n",
    "print(\"Optimal alpha:\", result.x[0])\n",
    "print(\"Minimal squared difference:\", result.fun)"
   ]
  },
  {
   "cell_type": "code",
   "execution_count": 923,
   "id": "5d61129e-e55d-466d-9305-672eee468d2b",
   "metadata": {
    "tags": []
   },
   "outputs": [],
   "source": [
    "experimental_qp = 1.902e-8 - 1.421e-8"
   ]
  },
  {
   "cell_type": "code",
   "execution_count": 924,
   "id": "8cfe60fc-0989-4a4d-87c7-2700e9552cec",
   "metadata": {
    "tags": []
   },
   "outputs": [
    {
     "name": "stdout",
     "output_type": "stream",
     "text": [
      "differential_evolution step 1: f(x)= 5.06662e-16\n",
      "differential_evolution step 2: f(x)= 5.06662e-16\n",
      "differential_evolution step 3: f(x)= 5.06662e-16\n",
      "differential_evolution step 4: f(x)= 5.06662e-16\n",
      "differential_evolution step 5: f(x)= 2.47398e-18\n",
      "differential_evolution step 6: f(x)= 1.90958e-18\n",
      "differential_evolution step 7: f(x)= 1.90958e-18\n",
      "differential_evolution step 8: f(x)= 1.90958e-18\n",
      "differential_evolution step 9: f(x)= 1.90958e-18\n",
      "differential_evolution step 10: f(x)= 1.90958e-18\n",
      "Optimal alpha: 0.9994751264656386\n",
      "Minimal squared difference: 1.90958178956673e-18\n"
     ]
    }
   ],
   "source": [
    "def objective_function(alpha):\n",
    "    alpha = alpha[0]  # Extract alpha since differential_evolution uses arrays\n",
    "    # Your existing implementation here\n",
    "    lp_tr_72_model.objective = 'MAR13082'\n",
    "    max_biomass = lp_tr_72_model.optimize().objective_value\n",
    "#    print(max_biomass)\n",
    "    \n",
    "    # Set the lower bound of the biomass to the optimized value multiplied by alpha\n",
    "    lp_tr_72_model.reactions.get_by_id(\"MAR13082\").lower_bound = max_biomass * alpha\n",
    "\n",
    "    # Simulate the model\n",
    "    solution = lp_tr_72_model.optimize()\n",
    "    \n",
    "    lp_tr_72_model.objective = 'MAR_SINK'\n",
    "    solution = lp_tr_72_model.optimize()\n",
    "    simulated_qp = solution.objective_value\n",
    "#    print(simulated_qp)\n",
    "    \n",
    "    # Calculate the squared difference\n",
    "    squared_difference = (simulated_qp * 24 - experimental_qp) ** 2\n",
    "#    print(squared_difference)\n",
    "    return squared_difference\n",
    "# Run the differential evolution algorithm\n",
    "result = differential_evolution(objective_function, bounds=[(0, 1)], strategy='best1bin', maxiter=10, popsize=15, tol=1e-7, mutation=(0.5, 1), recombination=0.7, disp=True)\n",
    "\n",
    "# Print the results\n",
    "print(\"Optimal alpha:\", result.x[0])\n",
    "print(\"Minimal squared difference:\", result.fun)"
   ]
  },
  {
   "cell_type": "code",
   "execution_count": null,
   "id": "719192db-423e-4e10-95dd-9df817c9865f",
   "metadata": {},
   "outputs": [],
   "source": [
    "### Fit alphas from 24, 48, 72 hours to estimate alpha at 4 hours.\n",
    "### Assume that alpha = 1 at 0 hours.\n",
    "### Use quadratic regression with f(x) = a*x^2+b*x+1\n",
    "### By using the formulas, alphas are obtained for 4 hours.\n",
    "### Then reconstruct all production rates"
   ]
  },
  {
   "cell_type": "code",
   "execution_count": 1175,
   "id": "8c54d569-2c7d-4491-8e00-1fe852ba5725",
   "metadata": {
    "tags": []
   },
   "outputs": [],
   "source": [
    "from scipy.optimize import curve_fit"
   ]
  },
  {
   "cell_type": "code",
   "execution_count": 1194,
   "id": "629f018c-03ce-4b5d-88c5-8be0d07a2422",
   "metadata": {
    "tags": []
   },
   "outputs": [
    {
     "name": "stdout",
     "output_type": "stream",
     "text": [
      "The quadratic equation is: y = -0.0000003748x^2 + 0.0000012616x + 1\n",
      "The predicted y-value for x = 4 is 0.9999990503\n",
      "The quadratic equation is: y = 0.0000000184x^2 + -0.0000085163x + 1\n",
      "The predicted y-value for x = 4 is 0.9999662291\n"
     ]
    }
   ],
   "source": [
    "# Define the model function\n",
    "def model_function(x, a, b):\n",
    "    return a * x**2 + b * x + 1\n",
    "\n",
    "# Example data points\n",
    "timepoints = np.array([24, 48, 72])\n",
    "hp_values = np.array([0.9997094664093564, 0.9993020784457456, 0.9981131329593219])\n",
    "lp_values = np.array([0.9997851194106243, 0.9996546645515525, 0.9994751264656386])\n",
    "\n",
    "# Perform curve fitting with robust loss (Huber loss)\n",
    "popt, pcov = curve_fit(model_function, timepoints, hp_values, method='lm')\n",
    "\n",
    "# Extracting coefficients\n",
    "a, b = popt\n",
    "\n",
    "# Predicting the y-value for x = 4\n",
    "x_predict = 4\n",
    "y_predict = model_function(x_predict, a, b)\n",
    "\n",
    "print(f\"The quadratic equation is: y = {a:.10f}x^2 + {b:.10f}x + 1\")\n",
    "print(f\"The predicted y-value for x = {x_predict} is {y_predict:.10f}\")\n",
    "\n",
    "# Perform curve fitting with robust loss (Huber loss)\n",
    "popt, pcov = curve_fit(model_function, timepoints, lp_values, method='lm')\n",
    "\n",
    "# Extracting coefficients\n",
    "a, b = popt\n",
    "\n",
    "# Predicting the y-value for x = 4\n",
    "x_predict = 4\n",
    "y_predict = model_function(x_predict, a, b)\n",
    "\n",
    "print(f\"The quadratic equation is: y = {a:.10f}x^2 + {b:.10f}x + 1\")\n",
    "print(f\"The predicted y-value for x = {x_predict} is {y_predict:.10f}\")"
   ]
  },
  {
   "cell_type": "code",
   "execution_count": 89,
   "id": "bbfc34d1-7177-47a8-9c2a-578fae72519d",
   "metadata": {
    "tags": []
   },
   "outputs": [],
   "source": [
    "hp_values = np.array([1, 0.9997094664093564, 0.9993020784457456, 0.9981131329593219])\n",
    "lp_values = np.array([1, 0.9997851194106243, 0.9996546645515525, 0.9994751264656386])"
   ]
  },
  {
   "cell_type": "code",
   "execution_count": 90,
   "id": "7c9b04a5-a160-4de2-ab04-c489c8c22e50",
   "metadata": {
    "tags": []
   },
   "outputs": [],
   "source": [
    "hp_alphas = np.insert(hp_values, 1, 0.9999990503)\n",
    "lp_alphas = np.insert(lp_values, 1, 0.9999662291)"
   ]
  },
  {
   "cell_type": "code",
   "execution_count": 91,
   "id": "b75fea6c-f606-4876-b1d1-9dbed11d9a3d",
   "metadata": {
    "tags": []
   },
   "outputs": [
    {
     "data": {
      "text/plain": [
       "array([1.        , 0.99999905, 0.99970947, 0.99930208, 0.99811313])"
      ]
     },
     "execution_count": 91,
     "metadata": {},
     "output_type": "execute_result"
    }
   ],
   "source": [
    "hp_alphas"
   ]
  },
  {
   "cell_type": "code",
   "execution_count": 28,
   "id": "f438741b-d94d-44b6-ad5e-f7bafda73818",
   "metadata": {
    "tags": []
   },
   "outputs": [],
   "source": [
    "timepoints = timepoints = np.array([0, 4, 24, 48, 72])"
   ]
  },
  {
   "cell_type": "code",
   "execution_count": 1201,
   "id": "c049f0a6-1c4d-46fb-b8db-17ef19262568",
   "metadata": {},
   "outputs": [],
   "source": [
    "def qp_reconstruction(model, est_alpha):\n",
    "    model.objective = \"MAR13082\"\n",
    "    max_biomass = model.optimize().objective_value\n",
    "    \n",
    "    model.reactions.get_by_id(\"MAR13082\").lower_bound = max_biomass * est_alpha\n",
    "    \n",
    "    model.objective = \"MAR_SINK\"\n",
    "    max_prod = model.optimize().objective_value\n",
    "    \n",
    "    print(f\"Production rate of {model} is:\", max_prod)\n",
    "    \n",
    "    return max_prod"
   ]
  },
  {
   "cell_type": "code",
   "execution_count": 1204,
   "id": "9135b70d-e56f-4248-a7f0-c797c662e550",
   "metadata": {},
   "outputs": [
    {
     "name": "stdout",
     "output_type": "stream",
     "text": [
      "Production rate of HumanGEM is: 2.579968997537206e-12\n",
      "Production rate of HumanGEM is: 8.969256348647372e-10\n",
      "Production rate of HumanGEM is: 1.2450694547309147e-09\n",
      "Production rate of HumanGEM is: 6.866444489884284e-10\n",
      "Production rate of HumanGEM is: 8.210923856649458e-11\n",
      "Production rate of HumanGEM is: 2.949787086182193e-10\n",
      "Production rate of HumanGEM is: 1.6945932319989714e-10\n",
      "Production rate of HumanGEM is: 1.4283849230822598e-10\n"
     ]
    },
    {
     "data": {
      "text/plain": [
       "1.4283849230822598e-10"
      ]
     },
     "execution_count": 1204,
     "metadata": {},
     "output_type": "execute_result"
    }
   ],
   "source": [
    "qp_reconstruction(hp_tr_4_model, hp_alphas[0])\n",
    "qp_reconstruction(hp_tr_24_model, hp_alphas[1])\n",
    "qp_reconstruction(hp_tr_48_model, hp_alphas[2])\n",
    "qp_reconstruction(hp_tr_72_model, hp_alphas[3])\n",
    "\n",
    "qp_reconstruction(lp_tr_4_model, lp_alphas[0])\n",
    "qp_reconstruction(lp_tr_24_model, lp_alphas[1])\n",
    "qp_reconstruction(lp_tr_48_model, lp_alphas[2])\n",
    "qp_reconstruction(lp_tr_72_model, lp_alphas[3])\n"
   ]
  },
  {
   "cell_type": "code",
   "execution_count": 12,
   "id": "10830cca-4ddb-4347-880c-8e116105622d",
   "metadata": {
    "tags": []
   },
   "outputs": [],
   "source": [
    "# Define the quadratic functions\n",
    "def hp_func(x):\n",
    "    return -0.0000003748 * x**2 + 0.0000012616 * x + 1\n",
    "\n",
    "def lp_func(x):\n",
    "    return 0.0000000184 * x**2 - 0.0000085163 * x + 1"
   ]
  },
  {
   "cell_type": "code",
   "execution_count": 31,
   "id": "c86df246-e217-4366-8553-eb75bc5e8e4c",
   "metadata": {
    "tags": []
   },
   "outputs": [
    {
     "data": {
      "image/png": "[encoded data removed]",
      "text/plain": [
       "<Figure size 1008x576 with 1 Axes>"
      ]
     },
     "metadata": {
      "needs_background": "light"
     },
     "output_type": "display_data"
    }
   ],
   "source": [
    "x_range = np.linspace(timepoints.min(), timepoints.max(), 500)\n",
    "\n",
    "plt.figure(figsize=(14,8))\n",
    "\n",
    "# Plot the original data points\n",
    "plt.plot(timepoints, hp_alphas, 'o', color='#E67E22', label='HP', markersize=10)\n",
    "plt.plot(timepoints, lp_alphas, 'o', color='#3498DB', label='LP', markersize=10)\n",
    "\n",
    "# Plot the quadratic functions as regression lines\n",
    "plt.plot(x_range, hp_func(x_range), '--', color='#E67E22', label='HP Regression')\n",
    "plt.plot(x_range, lp_func(x_range), '--', color='#3498DB', label='LP Regression')\n",
    "\n",
    "plt.xlabel('Time post transfection', fontsize=20)\n",
    "plt.ylabel('Relative proportion - BM synthesis', fontsize=20)\n",
    "plt.grid(True)\n",
    "plt.legend(fontsize=20)\n",
    "plt.xticks(fontsize=20)\n",
    "plt.yticks(fontsize=20)\n",
    "plt.savefig('/home/users/lzehetner/data/hek/plots/alphas_hp_lp_prod.png')\n",
    "plt.show()"
   ]
  },
  {
   "cell_type": "code",
   "execution_count": 1287,
   "id": "454b2e4a-6391-4a61-b2c1-23c12ecf65af",
   "metadata": {
    "tags": []
   },
   "outputs": [],
   "source": [
    "###############################\n",
    "##### Production envelope #####\n",
    "###############################"
   ]
  },
  {
   "cell_type": "code",
   "execution_count": 64,
   "id": "bd0e27eb-b10a-470b-9261-1f251e65504f",
   "metadata": {
    "tags": []
   },
   "outputs": [],
   "source": [
    "def calc_4_pareto(model, factor):\n",
    "    model.objective = \"MAR13082\"\n",
    "    max_biomass = model.optimize().objective_value\n",
    "    model.reactions.get_by_id(\"MAR13082\").lower_bound = max_biomass * factor\n",
    "    model.objective = \"MAR_SINK\"\n",
    "    max_prod = model.optimize().objective_value\n",
    "    \n",
    "    return max_prod"
   ]
  },
  {
   "cell_type": "code",
   "execution_count": null,
   "id": "563c35cf-10a7-4282-8194-b174a746801d",
   "metadata": {},
   "outputs": [],
   "source": [
    "## paired plots"
   ]
  },
  {
   "cell_type": "code",
   "execution_count": 65,
   "id": "5fb6fd58-bcf8-42a2-be6c-d96feb18c283",
   "metadata": {
    "collapsed": true,
    "jupyter": {
     "outputs_hidden": true
    }
   },
   "outputs": [
    {
     "name": "stderr",
     "output_type": "stream",
     "text": [
      "/home/users/lzehetner/.conda/envs/HEK_human1/lib/python3.7/site-packages/cobra/util/solver.py:554: UserWarning: Solver status is 'infeasible'.\n",
      "  warn(f\"Solver status is '{status}'.\", UserWarning)\n"
     ]
    }
   ],
   "source": [
    "factors = [0.70, 0.733333, 0.766666, 0.8, 0.833333, 0.866666, 0.9, 0.933333, 0.966666, 1]\n",
    "\n",
    "prod_rates_hp_4 = []\n",
    "for factor in factors:\n",
    "    a = calc_4_pareto(hp_tr_4_model, factor)\n",
    "    prod_rates_hp_4.append(a)\n",
    "    \n",
    "prod_rates_hp_24 = []\n",
    "for factor in factors:\n",
    "    a = calc_4_pareto(hp_tr_24_model, factor)\n",
    "    prod_rates_hp_24.append(a)\n",
    "    \n",
    "prod_rates_hp_48 = []\n",
    "for factor in factors:\n",
    "    a = calc_4_pareto(hp_tr_48_model, factor)\n",
    "    prod_rates_hp_48.append(a)\n",
    "    \n",
    "prod_rates_hp_72 = []\n",
    "for factor in factors:\n",
    "    a = calc_4_pareto(hp_tr_72_model, factor)\n",
    "    prod_rates_hp_72.append(a)\n",
    "    \n",
    "prod_rates_lp_4 = []\n",
    "for factor in factors:\n",
    "    a = calc_4_pareto(lp_tr_4_model, factor)\n",
    "    prod_rates_lp_4.append(a)\n",
    "\n",
    "prod_rates_lp_24 = []\n",
    "for factor in factors:\n",
    "    a = calc_4_pareto(lp_tr_24_model, factor)\n",
    "    prod_rates_lp_24.append(a)\n",
    "    \n",
    "prod_rates_lp_48 = []\n",
    "for factor in factors:\n",
    "    a = calc_4_pareto(lp_tr_48_model, factor)\n",
    "    prod_rates_lp_48.append(a)\n",
    "\n",
    "prod_rates_lp_72 = []\n",
    "for factor in factors:\n",
    "    a = calc_4_pareto(lp_tr_72_model, factor)\n",
    "    prod_rates_lp_72.append(a)"
   ]
  },
  {
   "cell_type": "code",
   "execution_count": 66,
   "id": "ac05edb7-662d-4041-8cec-287629e58856",
   "metadata": {
    "tags": []
   },
   "outputs": [
    {
     "name": "stdout",
     "output_type": "stream",
     "text": [
      "[5.857886451463401e-07, 5.320151057801056e-07, 4.782415664138446e-07, 4.244664138252804e-07, 3.706928744590372e-07, 3.1691933509278635e-07, 2.631441825042215e-07, 1.8110855338783686e-07, 9.055563500127789e-08, 0.0]\n",
      "[3.232055926358995e-07, 2.933041085450814e-07, 2.6340262445426285e-07, 2.3350024330995133e-07, 2.0359875921913327e-07, 1.7369727512831457e-07, 1.4379489398400318e-07, 1.1389340989318484e-07, 7.47977274172204e-08, 0.0]\n",
      "[2.0687463314075342e-07, 1.8820424710367737e-07, 1.6953386106660137e-07, 1.5086291491234308e-07, 1.3219252887526716e-07, 1.1352214283819109e-07, 9.485119668393292e-08, 7.6180810646857e-08, 5.7510424609780944e-08, 0.0]\n",
      "[1.0917215164376068e-07, 9.704203387462455e-08, 8.491191610548342e-08, 7.278143442917385e-08, 6.065131666003609e-08, 4.852119889089714e-08, 3.639071721458799e-08, 2.4260599445448283e-08, 1.2130481676310371e-08, 0.0]\n",
      "[5.824607260606366e-07, 5.466373129908288e-07, 5.108138999210176e-07, 4.7498941213806735e-07, 4.052275913302059e-07, 3.241830456084388e-07, 2.431360685259867e-07, 1.6209152280421951e-07, 8.104697708245213e-08, 0.0]\n",
      "[3.5684638389780736e-07, 3.296736048821755e-07, 3.025008258665439e-07, 2.7455128401758925e-07, 2.2879319426679742e-07, 1.8303510451600626e-07, 1.3727564200879492e-07, 9.151755225800274e-08, 4.575946250721169e-08, 0.0]\n",
      "[1.4721279610445892e-07, 1.3085598232928967e-07, 1.1449916855412469e-07, 9.814186406963854e-08, 8.178505029447172e-08, 6.542823651930565e-08, 4.9070932034819805e-08, 3.2714118259653016e-08, 1.635730448448796e-08, 0.0]\n",
      "[8.16416620141057e-08, 7.257045694771833e-08, 6.349925188133114e-08, 5.442777467607043e-08, 4.535656960968319e-08, 3.6285364543295847e-08, 2.7213887338035227e-08, 1.814268227164799e-08, 9.07147720526068e-09, 0.0]\n"
     ]
    }
   ],
   "source": [
    "print(prod_rates_hp_4)\n",
    "print(prod_rates_hp_24)\n",
    "print(prod_rates_hp_48)\n",
    "print(prod_rates_hp_72)\n",
    "print(prod_rates_lp_4)\n",
    "print(prod_rates_lp_24)\n",
    "print(prod_rates_lp_48)\n",
    "print(prod_rates_lp_72)\n"
   ]
  },
  {
   "cell_type": "code",
   "execution_count": 31,
   "id": "8cbc4c9a-4ebe-4f91-aedb-48fa11a9faf3",
   "metadata": {},
   "outputs": [],
   "source": [
    "import matplotlib.pyplot as plt\n",
    "import numpy as np\n",
    "\n",
    "# Generate 10 datasets with different values\n",
    "#np.random.seed(42)  # For reproducibility\n",
    "\n",
    "# maximum growth rates\n",
    "hp_04 = 0.016142\n",
    "hp_24 = 0.008976\n",
    "hp_48 = 0.005187\n",
    "hp_72 = 0.003370\n",
    "lp_04 = 0.014447\n",
    "lp_24 = 0.008157\n",
    "lp_48 = 0.004544\n",
    "lp_72 = 0.002520\n",
    "\n",
    "x_hp_real = [hp_04, hp_24, hp_48, hp_72]\n",
    "\n",
    "y_hp_real = [2.579968997537206e-12, 8.969256348647372e-10, 1.2450694547309147e-09, 6.866444489884284e-10]\n",
    "\n",
    "x_lp_real = [lp_04, lp_24, lp_48, lp_72]\n",
    "\n",
    "y_lp_real = [8.210923856649458e-11, 2.949787086182193e-10, 1.6945932319989714e-10, 1.4283849230822598e-10]\n",
    "\n",
    "x_hp_04 = [hp_04 * 0.7, hp_04 * 0.7333333, hp_04 * 0.766666, \n",
    "           hp_04 * 0.8, hp_04 * 0.8333333, hp_04 * 0.866666,\n",
    "           hp_04 * 0.9, hp_04 * 0.9333333, hp_04 * 0.966666]\n",
    "\n",
    "y_hp_04 = [5.857886451463401e-07, 5.320151057801056e-07, 4.782415664138446e-07, \n",
    "           4.244664138252804e-07, 3.706928744590372e-07, 3.1691933509278635e-07, \n",
    "           2.631441825042215e-07, 1.8110855338783686e-07, 9.055563500127789e-08]\n",
    "\n",
    "x_lp_04 = [lp_04 * 0.7, lp_04 * 0.7333333, lp_04 * 0.766666, \n",
    "           lp_04 * 0.8, lp_04 * 0.8333333, lp_04 * 0.866666,\n",
    "           lp_04 * 0.9, lp_04 * 0.9333333, lp_04 * 0.966666]\n",
    "\n",
    "y_lp_04 = [5.824607260606366e-07, 5.466373129908288e-07, 5.108138999210176e-07, \n",
    "           4.7498941213806735e-07, 4.052275913302059e-07, 3.241830456084388e-07, \n",
    "           2.431360685259867e-07, 1.6209152280421951e-07, 8.104697708245213e-08\n",
    "           ]\n",
    "\n",
    "x_hp_24 = [hp_24 * 0.7, hp_24 * 0.7333333, hp_24 * 0.766666, \n",
    "           hp_24 * 0.8, hp_24 * 0.8333333, hp_24 * 0.866666,\n",
    "           hp_24 * 0.9, hp_24 * 0.9333333, hp_24 * 0.966666]\n",
    "\n",
    "y_hp_24 = [3.232055926358995e-07, 2.933041085450814e-07, 2.6340262445426285e-07, \n",
    "           2.3350024330995133e-07, 2.0359875921913327e-07, 1.7369727512831457e-07, \n",
    "           1.4379489398400318e-07, 1.1389340989318484e-07, 7.47977274172204e-08]\n",
    "\n",
    "x_lp_24 = [lp_24 * 0.7, lp_24 * 0.7333333, lp_24 * 0.766666, \n",
    "           lp_24 * 0.8, lp_24 * 0.8333333, lp_24 * 0.866666,\n",
    "           lp_24 * 0.9, lp_24 * 0.9333333, lp_24 * 0.966666]\n",
    "\n",
    "y_lp_24 = [3.5684638389780736e-07, 3.296736048821755e-07, 3.025008258665439e-07,\n",
    "           2.7455128401758925e-07, 2.2879319426679742e-07, 1.8303510451600626e-07, \n",
    "           1.3727564200879492e-07, 9.151755225800274e-08, 4.575946250721169e-08]\n",
    "\n",
    "x_hp_48 = [hp_48 * 0.7, hp_48 * 0.7333333, hp_48 * 0.766666, \n",
    "           hp_48 * 0.8, hp_48 * 0.8333333, hp_48 * 0.866666,\n",
    "           hp_48 * 0.9, hp_48 * 0.9333333, hp_48 * 0.966666]\n",
    "\n",
    "y_hp_48 = [2.0687463314075342e-07, 1.8820424710367737e-07, 1.6953386106660137e-07, \n",
    "           1.5086291491234308e-07, 1.3219252887526716e-07, 1.1352214283819109e-07, \n",
    "           9.485119668393292e-08, 7.6180810646857e-08, 5.7510424609780944e-08]\n",
    "\n",
    "x_lp_48 = [lp_48 * 0.7, lp_48 * 0.7333333, lp_48 * 0.766666, \n",
    "           lp_48 * 0.8, lp_48 * 0.8333333, lp_48 * 0.866666,\n",
    "           lp_48 * 0.9, lp_48 * 0.9333333, lp_48 * 0.966666]\n",
    "\n",
    "y_lp_48 = [1.4721279610445892e-07, 1.3085598232928967e-07, 1.1449916855412469e-07, \n",
    "           9.814186406963854e-08, 8.178505029447172e-08, 6.542823651930565e-08, \n",
    "           4.9070932034819805e-08, 3.2714118259653016e-08, 1.635730448448796e-08]\n",
    "\n",
    "x_hp_72 = [hp_72 * 0.7, hp_72 * 0.7333333, hp_72 * 0.766666, \n",
    "           hp_72 * 0.8, hp_72 * 0.8333333, hp_72 * 0.866666,\n",
    "           hp_72 * 0.9, hp_72 * 0.9333333, hp_72 * 0.966666]\n",
    "\n",
    "y_hp_72 = [1.0917215164376068e-07, 9.704203387462455e-08, 8.491191610548342e-08, \n",
    "           7.278143442917385e-08, 6.065131666003609e-08, 4.852119889089714e-08, \n",
    "           3.639071721458799e-08, 2.4260599445448283e-08, 1.2130481676310371e-08]\n",
    "\n",
    "x_lp_72 = [lp_72 * 0.7, lp_72 * 0.7333333, lp_72 * 0.766666, \n",
    "           lp_72 * 0.8, lp_72 * 0.8333333, lp_72 * 0.866666,\n",
    "           lp_72 * 0.9, lp_72 * 0.9333333, lp_72 * 0.966666]\n",
    "\n",
    "y_lp_72 = [8.16416620141057e-08, 7.257045694771833e-08, 6.349925188133114e-08, \n",
    "           5.442777467607043e-08, 4.535656960968319e-08, 3.6285364543295847e-08, \n",
    "           2.7213887338035227e-08, 1.814268227164799e-08, 9.07147720526068e-09]"
   ]
  },
  {
   "cell_type": "code",
   "execution_count": 57,
   "id": "5db94961-012c-4324-9c2f-e18631ba5bfc",
   "metadata": {
    "scrolled": true
   },
   "outputs": [
    {
     "name": "stderr",
     "output_type": "stream",
     "text": [
      "/home/users/lzehetner/.conda/envs/HEK_human1/lib/python3.7/site-packages/ipykernel_launcher.py:28: UserWarning: linestyle is redundantly defined by the 'linestyle' keyword argument and the fmt string \"o-\" (-> linestyle='-'). The keyword argument will take precedence.\n"
     ]
    },
    {
     "data": {
      "image/png": "[encoded data removed]",
      "text/plain": [
       "<Figure size 1008x576 with 1 Axes>"
      ]
     },
     "metadata": {
      "needs_background": "light"
     },
     "output_type": "display_data"
    }
   ],
   "source": [
    "# Create figure and axis\n",
    "fig, ax = plt.subplots(figsize=(14, 8))\n",
    "\n",
    "# Dictionary to hold the datasets\n",
    "datasets = {\n",
    "    \"x_hp_real\": x_hp_real, \"y_hp_real\": y_hp_real,\n",
    "    \"x_lp_real\": x_lp_real, \"y_lp_real\": y_lp_real,\n",
    "    \"x_hp_04\": x_hp_04, \"y_hp_04\": y_hp_04,\n",
    "    \"x_lp_04\": x_lp_04, \"y_lp_04\": y_lp_04,\n",
    "    \"x_hp_24\": x_hp_24, \"y_hp_24\": y_hp_24,\n",
    "    \"x_lp_24\": x_lp_24, \"y_lp_24\": y_lp_24,\n",
    "    \"x_hp_48\": x_hp_48, \"y_hp_48\": y_hp_48,\n",
    "    \"x_lp_48\": x_lp_48, \"y_lp_48\": y_lp_48,\n",
    "    \"x_hp_72\": x_hp_72, \"y_hp_72\": y_hp_72,\n",
    "    \"x_lp_72\": x_lp_72, \"y_lp_72\": y_lp_72\n",
    "}\n",
    "\n",
    "# Plot all datasets\n",
    "for i, (key_x, key_y) in enumerate(zip(list(datasets.keys())[::2], list(datasets.keys())[1::2])):\n",
    "    # Check if the dataset contains '_real' in its name for dashed line style\n",
    "    linestyle = '--' if '_real' in key_x else '-'\n",
    "    \n",
    "    # Assign color based on high producer (hp) or low producer (lp)\n",
    "    color = \"#E67E22\" if 'hp' in key_x else \"#3498DB\"\n",
    "    \n",
    "    # Plot the dataset with appropriate linestyle and color\n",
    "    ax.plot(datasets[key_x], datasets[key_y], 'o-', color=color, linestyle=linestyle, \n",
    "            markersize=10, linewidth=3, label=key_x)\n",
    "\n",
    "# Set log scale for y-axis\n",
    "ax.set_yscale('log')\n",
    "\n",
    "# Labeling axes\n",
    "plt.xlabel('Maximal growth rate [1/h]', fontsize=25)  # Set x-axis label font size\n",
    "plt.ylabel('Max. production rate [mmole/gDW/h]', fontsize=25)  # Set y-axis label font size\n",
    "plt.xticks(fontsize=25)  # Increase the font size of x-ticks\n",
    "plt.yticks(fontsize=25)  # Increase the font size of y-ticks\n",
    "\n",
    "# Adding vertical shaded regions to mimic the original image\n",
    "ax.axvspan(0.0015, 0.0033, color='gray', alpha=0.5)\n",
    "ax.axvspan(0.0033, 0.0055, color='lightgray', alpha=0.5)\n",
    "ax.axvspan(0.0055, 0.009, color='gray', alpha=0.5)\n",
    "ax.axvspan(0.009, 0.0165, color='lightgray', alpha=0.5)\n",
    "\n",
    "# Adding text annotations\n",
    "ax.text(0.0022, 3.8e-9, '72 h', rotation=0, verticalalignment='center', color='black', fontsize = 20)\n",
    "ax.text(0.004, 3.8e-9, '48 h', rotation=0, verticalalignment='center', color='black', fontsize = 20)\n",
    "ax.text(0.0068, 3.8e-9, '24 h', rotation=0, verticalalignment='center', color='black', fontsize = 20)\n",
    "ax.text(0.0125, 3.8e-9, '4 h', rotation=0, verticalalignment='center', color='black', fontsize = 20)\n",
    "\n",
    "# Show legend\n",
    "#ax.legend()\n",
    "\n",
    "# Show grid for better visualization\n",
    "ax.grid(True, which=\"both\", ls=\"--\")\n",
    "\n",
    "plt.savefig('/home/users/lzehetner/data/hek/plots/prod_env.png')\n",
    "\n",
    "# Display the plot\n",
    "plt.show()"
   ]
  },
  {
   "cell_type": "code",
   "execution_count": null,
   "id": "054aceb5-b690-4346-9a0e-4d3be3078dab",
   "metadata": {},
   "outputs": [],
   "source": []
  },
  {
   "cell_type": "code",
   "execution_count": null,
   "id": "ba7a6872-0c79-4145-9f7d-fe0c638e3805",
   "metadata": {},
   "outputs": [],
   "source": [
    "######################################\n",
    "#### flux distribution using pFBA ####\n",
    "######################################"
   ]
  },
  {
   "cell_type": "code",
   "execution_count": 27,
   "id": "32a3f441-5cb9-4787-9a51-a240f6ea7bce",
   "metadata": {
    "tags": []
   },
   "outputs": [],
   "source": [
    "from cobra.flux_analysis import pfba"
   ]
  },
  {
   "cell_type": "code",
   "execution_count": 30,
   "id": "5772542f-c630-489c-b647-471f202be653",
   "metadata": {
    "tags": []
   },
   "outputs": [],
   "source": [
    "hp_alphas = np.array([0.9999990503, 0.9997094664093564, 0.9993020784457456, 0.9981131329593219])\n",
    "lp_alphas = np.array([0.9999662291, 0.9997851194106243, 0.9996546645515525, 0.9994751264656386])"
   ]
  },
  {
   "cell_type": "code",
   "execution_count": null,
   "id": "348f99e8-c85c-42de-bcec-47b13858dd45",
   "metadata": {},
   "outputs": [],
   "source": [
    "## transfected"
   ]
  },
  {
   "cell_type": "code",
   "execution_count": 31,
   "id": "774d4ca3-b294-4932-a00f-18ab11f9d0ff",
   "metadata": {
    "tags": []
   },
   "outputs": [],
   "source": [
    "tr_models = [hp_tr_4_model, hp_tr_24_model, hp_tr_48_model, hp_tr_72_model, \n",
    "          lp_tr_4_model, lp_tr_24_model, lp_tr_48_model, lp_tr_72_model\n",
    "         ]\n",
    "tr_model_ids = [hp_tr_4, hp_tr_24, hp_tr_48, hp_tr_72, \n",
    "          lp_tr_4, lp_tr_24, lp_tr_48, lp_tr_72\n",
    "              ]\n",
    "#alpha_values = [0.9999936, 0.9997094, 0.9993020, 0.9981131,\n",
    "#         0.999972, 0.999785, 0.9996546, 0.9994751]\n",
    "alphas_array = np.concatenate((hp_alphas, lp_alphas))\n",
    "\n",
    "# Convert the merged array to a list\n",
    "alpha_values = alphas_array.tolist()"
   ]
  },
  {
   "cell_type": "code",
   "execution_count": 33,
   "id": "e9e0c991-0021-4691-be68-1cc676af686f",
   "metadata": {
    "tags": []
   },
   "outputs": [],
   "source": [
    "def perform_pfba(model, alpha):\n",
    "    \"\"\" Perform flux variability analysis on a given model using a specific alpha multiplier. \"\"\"\n",
    "    model.objective = 'MAR13082'\n",
    "    max_biomass = model.optimize().objective_value\n",
    "    model.reactions.get_by_id(\"MAR13082\").lower_bound = max_biomass * alpha\n",
    "    print(max_biomass)\n",
    "    model.objective = \"MAR_SINK\"\n",
    "    max_prod = model.optimize().objective_value\n",
    "    model.reactions.get_by_id(\"MAR_SINK\").lower_bound = max_prod\n",
    "    print(max_prod)\n",
    "    model.objective = \"MAR13082\"\n",
    "    model.reactions.get_by_id(\"MAR13082\").lower_bound = 0.0\n",
    "    pfba_results = pfba(model)\n",
    "#    flux_distribution = model.optimize()\n",
    "    return pd.Series(pfba_results.fluxes)\n",
    "\n",
    "def aggregate_fluxes_tr(models, model_names, alphas):\n",
    "    \"\"\"\n",
    "    Perform FBA on a list of models with corresponding alpha multipliers and aggregate the flux distributions into a single DataFrame.\n",
    "    \n",
    "    Args:\n",
    "    models (list of cobra.Model): List of COBRApy model objects.\n",
    "    model_names (list of str): List of model names corresponding to each model.\n",
    "    alphas (list of float): List of alpha multipliers corresponding to each model.\n",
    "\n",
    "    Returns:\n",
    "    DataFrame with reaction IDs as rows and models as columns, including 0.0 for missing reactions.\n",
    "    \"\"\"\n",
    "    # Dictionary to hold the series of fluxes for each model\n",
    "    all_fluxes = {}\n",
    "    \n",
    "    # Iterate over models, names, and alphas simultaneously\n",
    "    for model, name, alpha in zip(models, model_names, alphas):\n",
    "        fluxes = perform_pfba(model, alpha)\n",
    "        all_fluxes[name] = fluxes\n",
    "\n",
    "    # Create a DataFrame from the dictionary, filling missing values with 0.0\n",
    "    flux_df = pd.DataFrame(all_fluxes).fillna(0.0)\n",
    "    return flux_df"
   ]
  },
  {
   "cell_type": "code",
   "execution_count": 34,
   "id": "d4a734bf-cc37-4456-bc75-7ce96712d9d4",
   "metadata": {
    "tags": []
   },
   "outputs": [
    {
     "name": "stdout",
     "output_type": "stream",
     "text": [
      "0.01614197458111814\n",
      "3.1389622773154525e-12\n",
      "0.00897595735412287\n",
      "8.969256348760164e-10\n",
      "0.005186897465820183\n",
      "1.3806710785139192e-09\n",
      "0.0033699183826140827\n",
      "6.866444489884053e-10\n",
      "0.014447010878151872\n",
      "9.989957358923507e-11\n",
      "0.008156842814106663\n",
      "3.588907621521892e-10\n",
      "0.00454415434961138\n",
      "1.694593231999096e-10\n",
      "0.002520109143825086\n",
      "1.4283849230829934e-10\n"
     ]
    }
   ],
   "source": [
    "tr_flux_distribution = aggregate_fluxes_tr(tr_models, tr_model_ids, alpha_values)"
   ]
  },
  {
   "cell_type": "code",
   "execution_count": 36,
   "id": "37a8aa2b-8ff3-43ba-b645-6ed2bcaeaea6",
   "metadata": {
    "tags": []
   },
   "outputs": [],
   "source": [
    "fd_tr = tr_flux_distribution\n",
    "tr_fluxes = fd_tr.reset_index()\n",
    "tr_fluxes.columns = [\"reaction_id\", \"hp_tr_4\", \"hp_tr_24\", \"hp_tr_48\", \"hp_tr_72\", \n",
    "          \"lp_tr_4\", \"lp_tr_24\", \"lp_tr_48\", \"lp_tr_72\"\n",
    "              ]"
   ]
  },
  {
   "cell_type": "code",
   "execution_count": 39,
   "id": "35f5d79e-03e6-4bca-8ecd-be8430c0e29c",
   "metadata": {
    "tags": []
   },
   "outputs": [],
   "source": [
    "tr_fluxes.to_csv('/home/users/lzehetner/data/hek/flux_distribution_tr_pfba.csv', index=False)"
   ]
  },
  {
   "cell_type": "code",
   "execution_count": null,
   "id": "776bb4e0-3644-48bd-939b-7a562ad866ce",
   "metadata": {},
   "outputs": [],
   "source": [
    "## mock"
   ]
  },
  {
   "cell_type": "code",
   "execution_count": 40,
   "id": "e4d54a98-70e6-4888-8a18-0a573a4689ad",
   "metadata": {
    "tags": []
   },
   "outputs": [],
   "source": [
    "mo_models = [hp_mo_4_model, hp_mo_24_model, hp_mo_48_model, hp_mo_72_model, \n",
    "         lp_mo_4_model, lp_mo_24_model, lp_mo_48_model, lp_mo_72_model\n",
    "         ]\n",
    "mo_model_ids = [hp_mo_4, hp_mo_24, hp_mo_48, hp_mo_72, \n",
    "             lp_mo_4, lp_mo_24, lp_mo_48, lp_mo_72,\n",
    "              ]"
   ]
  },
  {
   "cell_type": "code",
   "execution_count": 41,
   "id": "2be3f4fa-826b-439c-b351-7bc12d57c684",
   "metadata": {},
   "outputs": [],
   "source": [
    "def perform_pfba(model):\n",
    "    \"\"\" Perform flux variability analysis on a given model. \"\"\"\n",
    "    model.objective = 'MAR13082'\n",
    "    max_biomass = model.optimize().objective_value\n",
    "    print(max_biomass)\n",
    "    pfba_results = pfba(model)\n",
    "    return pd.Series(pfba_results.fluxes)\n",
    "\n",
    "def aggregate_fluxes_mo(models, model_names):\n",
    "    \"\"\"\n",
    "    Perform FBA on a list of models with corresponding alpha multipliers and aggregate the flux distributions into a single DataFrame.\n",
    "    \n",
    "    Args:\n",
    "    models (list of cobra.Model): List of COBRApy model objects.\n",
    "    model_names (list of str): List of model names corresponding to each model.\n",
    "    alphas (list of float): List of alpha multipliers corresponding to each model.\n",
    "\n",
    "    Returns:\n",
    "    DataFrame with reaction IDs as rows and models as columns, including 0.0 for missing reactions.\n",
    "    \"\"\"\n",
    "    # Dictionary to hold the series of fluxes for each model\n",
    "    all_fluxes = {}\n",
    "    \n",
    "    # Iterate over models, names, and alphas simultaneously\n",
    "    for model, name in zip(models, model_names):\n",
    "        fluxes = perform_pfba(model)\n",
    "        all_fluxes[name] = fluxes\n",
    "\n",
    "    # Create a DataFrame from the dictionary, filling missing values with 0.0\n",
    "    flux_df = pd.DataFrame(all_fluxes).fillna(0.0)\n",
    "    return flux_df"
   ]
  },
  {
   "cell_type": "code",
   "execution_count": 42,
   "id": "91471511-ab5a-412a-9e66-74592b7f83b0",
   "metadata": {},
   "outputs": [
    {
     "name": "stdout",
     "output_type": "stream",
     "text": [
      "0.018273388694063097\n",
      "0.008567985705474077\n",
      "0.0045438993839883295\n",
      "0.00245141366987891\n",
      "0.010674391599446515\n",
      "0.006967827612437361\n",
      "0.0046398361444218135\n",
      "0.0025172595224458596\n"
     ]
    }
   ],
   "source": [
    "mo_flux_distribution = aggregate_fluxes_mo(mo_models, mo_model_ids)"
   ]
  },
  {
   "cell_type": "code",
   "execution_count": 44,
   "id": "74d1e50f-d3cd-4af8-ba49-d61ac5a84267",
   "metadata": {},
   "outputs": [],
   "source": [
    "fd_mo = mo_flux_distribution\n",
    "mo_fluxes = fd_mo.reset_index()\n",
    "mo_fluxes.columns = [\"reaction_id\", \"hp_mo_4\", \"hp_mo_24\", \"hp_mo_48\", \"hp_mo_72\", \n",
    "          \"lp_mo_4\", \"lp_mo_24\", \"lp_mo_48\", \"lp_mo_72\"\n",
    "              ]"
   ]
  },
  {
   "cell_type": "code",
   "execution_count": 46,
   "id": "0c28bbd2-6a01-400b-adad-63b0bf530c90",
   "metadata": {
    "tags": []
   },
   "outputs": [],
   "source": [
    "mo_fluxes.to_csv('/home/users/lzehetner/data/hek/flux_distribution_mo_pfba.csv', index=False)"
   ]
  },
  {
   "cell_type": "code",
   "execution_count": 47,
   "id": "773143a6-b44a-4168-8d4b-39677f41cce4",
   "metadata": {
    "tags": []
   },
   "outputs": [],
   "source": [
    "# Setting reaction_id as the index if not already set\n",
    "if tr_fluxes.columns[0] == 'reaction_id':\n",
    "    tr_fluxes.set_index('reaction_id', inplace=True)\n",
    "if mo_fluxes.columns[0] == 'reaction_id':\n",
    "    mo_fluxes.set_index('reaction_id', inplace=True)\n",
    "\n",
    "# Merging the DataFrames\n",
    "merged_df = pd.merge(tr_fluxes, mo_fluxes, left_index=True, right_index=True, how='outer')\n",
    "\n",
    "# Filling NA values with 0.0\n",
    "merged_df.fillna(0.0, inplace=True)"
   ]
  },
  {
   "cell_type": "code",
   "execution_count": 49,
   "id": "51373750-334d-4554-a7ea-146dbb36f5f6",
   "metadata": {
    "tags": []
   },
   "outputs": [],
   "source": [
    "merged_df.to_csv('/home/users/lzehetner/data/hek/flux_distribution_combined_pfba.csv', index=True)"
   ]
  },
  {
   "cell_type": "code",
   "execution_count": null,
   "id": "f9412812-0631-433c-98f4-7b8a744d2f9b",
   "metadata": {},
   "outputs": [],
   "source": []
  },
  {
   "cell_type": "code",
   "execution_count": 1074,
   "id": "2a04e0ca-841d-4d37-8981-93d5a94377a5",
   "metadata": {
    "tags": []
   },
   "outputs": [],
   "source": [
    "###############################################################################\n",
    "## Analyze flux distribution between models, when fluxes are different by x% ##\n",
    "###############################################################################"
   ]
  },
  {
   "cell_type": "code",
   "execution_count": 50,
   "id": "1ca47088-d357-45fa-83b4-a55e82601f4c",
   "metadata": {
    "tags": []
   },
   "outputs": [],
   "source": [
    "def enrichment(df, column1, column2, percentage_threshold):\n",
    "    \n",
    "    # Calculate the percentage change and filter for significant changes\n",
    "    df['percent_change'] = 100 * (df[column1] - df[column2]) / abs(df[column2])\n",
    "\n",
    "    # Identify upregulated reactions (flux in model1 is at least 10% higher than in model2)\n",
    "    upregulated_reactions = df[df['percent_change'] >= percentage_threshold]\n",
    "\n",
    "    upregulated_reaction_ids = upregulated_reactions.index.tolist()\n",
    "    \n",
    "    # Identify downregulated reactions (flux in model1 is at least 10% lower than in model2)\n",
    "    downregulated_reactions = df[df['percent_change'] <= -percentage_threshold]\n",
    "\n",
    "    downregulated_reaction_ids = downregulated_reactions.index.tolist()\n",
    "    \n",
    "    print(\"Upregulated reactions:\")\n",
    "    print(len(upregulated_reactions))\n",
    "\n",
    "    print(\"Downregulated reactions:\")\n",
    "    print(len(downregulated_reactions))\n",
    "    \n",
    "    return upregulated_reaction_ids, downregulated_reaction_ids"
   ]
  },
  {
   "cell_type": "code",
   "execution_count": null,
   "id": "03cadcfb-87ff-4d2c-899a-4e29fdcab6e6",
   "metadata": {},
   "outputs": [],
   "source": [
    "#---Condition---#\n",
    "### HP vs LP ###\n",
    "#---------------#"
   ]
  },
  {
   "cell_type": "code",
   "execution_count": 67,
   "id": "fd985a87-36a0-43d8-bede-e9318084dfb6",
   "metadata": {
    "tags": []
   },
   "outputs": [
    {
     "name": "stdout",
     "output_type": "stream",
     "text": [
      "Upregulated reactions:\n",
      "130\n",
      "Downregulated reactions:\n",
      "155\n"
     ]
    }
   ],
   "source": [
    "hp_lp_tr = enrichment(merged_df, \"lp_tr_4\", \"hp_tr_4\", 50)\n",
    "hp_lp_tr_4_up = hp_lp_tr[0]\n",
    "hp_lp_tr_4_down = hp_lp_tr[1]"
   ]
  },
  {
   "cell_type": "code",
   "execution_count": 68,
   "id": "012f8019-7335-44d3-b1e7-f0da1136ccae",
   "metadata": {
    "tags": []
   },
   "outputs": [
    {
     "name": "stdout",
     "output_type": "stream",
     "text": [
      "Upregulated reactions:\n",
      "100\n",
      "Downregulated reactions:\n",
      "148\n"
     ]
    }
   ],
   "source": [
    "hp_lp_tr = enrichment(merged_df, \"lp_tr_24\", \"hp_tr_24\", 50)\n",
    "hp_lp_tr_24_up = hp_lp_tr[0]\n",
    "hp_lp_tr_24_down = hp_lp_tr[1]"
   ]
  },
  {
   "cell_type": "code",
   "execution_count": 69,
   "id": "f8677eb9-e567-40ec-a427-04a6d8d4e46a",
   "metadata": {
    "tags": []
   },
   "outputs": [
    {
     "name": "stdout",
     "output_type": "stream",
     "text": [
      "Upregulated reactions:\n",
      "95\n",
      "Downregulated reactions:\n",
      "79\n"
     ]
    }
   ],
   "source": [
    "hp_lp_tr = enrichment(merged_df, \"lp_tr_48\", \"hp_tr_48\", 50)\n",
    "hp_lp_tr_48_up = hp_lp_tr[0]\n",
    "hp_lp_tr_48_down = hp_lp_tr[1]"
   ]
  },
  {
   "cell_type": "code",
   "execution_count": 70,
   "id": "57ed08a5-02d2-487f-af51-14c05f66a996",
   "metadata": {
    "tags": []
   },
   "outputs": [
    {
     "name": "stdout",
     "output_type": "stream",
     "text": [
      "Upregulated reactions:\n",
      "73\n",
      "Downregulated reactions:\n",
      "70\n"
     ]
    }
   ],
   "source": [
    "hp_lp_tr = enrichment(merged_df, \"lp_tr_72\", \"hp_tr_72\", 50)\n",
    "hp_lp_tr_72_up = hp_lp_tr[0]\n",
    "hp_lp_tr_72_down = hp_lp_tr[1]"
   ]
  },
  {
   "cell_type": "code",
   "execution_count": 71,
   "id": "4e6c3df8-e90d-4f35-b61a-180cc19f89fa",
   "metadata": {
    "tags": []
   },
   "outputs": [
    {
     "data": {
      "text/plain": [
       "['MAR04404',\n",
       " 'MAR04501',\n",
       " 'MAR05481',\n",
       " 'MAR04565',\n",
       " 'MAR08992',\n",
       " 'MAR09012',\n",
       " 'MAR09061',\n",
       " 'MAR05330',\n",
       " 'MAR05517']"
      ]
     },
     "execution_count": 71,
     "metadata": {},
     "output_type": "execute_result"
    }
   ],
   "source": [
    "set1 = set(hp_lp_tr_4_up)\n",
    "set2 = set(hp_lp_tr_24_up)\n",
    "set3 = set(hp_lp_tr_48_up)\n",
    "set4 = set(hp_lp_tr_72_up)\n",
    "\n",
    "common_elements = set1 & set2 & set3 # & set4\n",
    "\n",
    "common_elements_list = list(common_elements)\n",
    "\n",
    "common_elements_list"
   ]
  },
  {
   "cell_type": "code",
   "execution_count": 72,
   "id": "cf02fd03-a0e2-4f3c-956e-3f0d5e85a539",
   "metadata": {
    "tags": []
   },
   "outputs": [
    {
     "data": {
      "text/plain": [
       "['MAR04404', 'MAR04501', 'MAR04565', 'MAR08992', 'MAR09061', 'MAR05330']"
      ]
     },
     "execution_count": 72,
     "metadata": {},
     "output_type": "execute_result"
    }
   ],
   "source": [
    "common_elements = set1 & set2 & set3 & set4\n",
    "\n",
    "common_elements_list = list(common_elements)\n",
    "\n",
    "common_elements_list"
   ]
  },
  {
   "cell_type": "code",
   "execution_count": 73,
   "id": "1732e0ac-7db6-472a-a07b-a4403377c529",
   "metadata": {
    "tags": []
   },
   "outputs": [
    {
     "data": {
      "text/plain": [
       "['MAR09071', 'MAR05127', 'MAR09068', 'MAR09031', 'MAR04875', 'MAR03806']"
      ]
     },
     "execution_count": 73,
     "metadata": {},
     "output_type": "execute_result"
    }
   ],
   "source": [
    "set1 = set(hp_lp_tr_4_down)\n",
    "set2 = set(hp_lp_tr_24_down)\n",
    "set3 = set(hp_lp_tr_48_down)\n",
    "set4 = set(hp_lp_tr_72_down)\n",
    "\n",
    "common_elements = set1 & set2 & set3  & set4\n",
    "\n",
    "common_elements_list = list(common_elements)\n",
    "\n",
    "common_elements_list"
   ]
  },
  {
   "cell_type": "code",
   "execution_count": 74,
   "id": "5135974a-fcfe-444b-9403-5bb21d655b43",
   "metadata": {
    "tags": []
   },
   "outputs": [
    {
     "data": {
      "text/plain": [
       "['MAR00710',\n",
       " 'MAR09001',\n",
       " 'MAR09071',\n",
       " 'MAR05127',\n",
       " 'MAR09068',\n",
       " 'MAR09031',\n",
       " 'MAR04304',\n",
       " 'MAR04875',\n",
       " 'MAR03806']"
      ]
     },
     "execution_count": 74,
     "metadata": {},
     "output_type": "execute_result"
    }
   ],
   "source": [
    "common_elements = set1 & set2 & set3 # & set4\n",
    "\n",
    "common_elements_list = list(common_elements)\n",
    "\n",
    "common_elements_list"
   ]
  },
  {
   "cell_type": "code",
   "execution_count": 96,
   "id": "56e8e019-a333-4a65-a941-bfb8fd4c21b8",
   "metadata": {
    "tags": []
   },
   "outputs": [
    {
     "name": "stdout",
     "output_type": "stream",
     "text": [
      "Upregulated reactions:\n",
      "163\n",
      "Downregulated reactions:\n",
      "178\n"
     ]
    }
   ],
   "source": [
    "hp_lp_mo = enrichment(merged_df, \"lp_mo_4\", \"hp_mo_4\", 50)\n",
    "hp_lp_mo_4_up = hp_lp_mo[0]\n",
    "hp_lp_mo_4_down = hp_lp_mo[1]"
   ]
  },
  {
   "cell_type": "code",
   "execution_count": 97,
   "id": "6e4e9b5f-b7e5-40f3-84a4-0c4113c2b823",
   "metadata": {
    "tags": []
   },
   "outputs": [
    {
     "name": "stdout",
     "output_type": "stream",
     "text": [
      "Upregulated reactions:\n",
      "92\n",
      "Downregulated reactions:\n",
      "113\n"
     ]
    }
   ],
   "source": [
    "hp_lp_mo = enrichment(merged_df, \"lp_mo_24\", \"hp_mo_24\", 50)\n",
    "hp_lp_mo_24_up = hp_lp_mo[0]\n",
    "hp_lp_mo_24_down = hp_lp_mo[1]"
   ]
  },
  {
   "cell_type": "code",
   "execution_count": 98,
   "id": "e97af4b5-926f-47ec-93aa-d6171f6815b3",
   "metadata": {
    "tags": []
   },
   "outputs": [
    {
     "name": "stdout",
     "output_type": "stream",
     "text": [
      "Upregulated reactions:\n",
      "89\n",
      "Downregulated reactions:\n",
      "78\n"
     ]
    }
   ],
   "source": [
    "hp_lp_mo = enrichment(merged_df, \"lp_mo_48\", \"hp_mo_48\", 50)\n",
    "hp_lp_mo_48_up = hp_lp_mo[0]\n",
    "hp_lp_mo_48_down = hp_lp_mo[1]"
   ]
  },
  {
   "cell_type": "code",
   "execution_count": 99,
   "id": "dc272853-095a-4668-a4c8-4a5c9ae3a166",
   "metadata": {
    "tags": []
   },
   "outputs": [
    {
     "name": "stdout",
     "output_type": "stream",
     "text": [
      "Upregulated reactions:\n",
      "94\n",
      "Downregulated reactions:\n",
      "85\n"
     ]
    }
   ],
   "source": [
    "hp_lp_mo = enrichment(merged_df, \"lp_mo_72\", \"hp_mo_72\", 50)\n",
    "hp_lp_mo_72_up = hp_lp_mo[0]\n",
    "hp_lp_mo_72_down = hp_lp_mo[1]"
   ]
  },
  {
   "cell_type": "code",
   "execution_count": 100,
   "id": "bdd30fd4-3e59-4d33-b2c6-c85bdbe9ac2f",
   "metadata": {
    "tags": []
   },
   "outputs": [
    {
     "data": {
      "text/plain": [
       "['MAR09061', 'MAR05330', 'MAR05517', 'MAR00101', 'MAR04312', 'MAR09685']"
      ]
     },
     "execution_count": 100,
     "metadata": {},
     "output_type": "execute_result"
    }
   ],
   "source": [
    "set1 = set(hp_lp_mo_4_up)\n",
    "set2 = set(hp_lp_mo_24_up)\n",
    "set3 = set(hp_lp_mo_48_up)\n",
    "set4 = set(hp_lp_mo_72_up)\n",
    "\n",
    "common_elements = set1 & set2 & set3 # & set4\n",
    "\n",
    "common_elements_list = list(common_elements)\n",
    "\n",
    "common_elements_list"
   ]
  },
  {
   "cell_type": "code",
   "execution_count": 101,
   "id": "acb513c0-88f8-4a70-9279-895b1c90cf31",
   "metadata": {
    "tags": []
   },
   "outputs": [
    {
     "data": {
      "text/plain": [
       "['MAR05330']"
      ]
     },
     "execution_count": 101,
     "metadata": {},
     "output_type": "execute_result"
    }
   ],
   "source": [
    "common_elements = set1 & set2 & set3 & set4\n",
    "\n",
    "common_elements_list = list(common_elements)\n",
    "\n",
    "common_elements_list"
   ]
  },
  {
   "cell_type": "code",
   "execution_count": 102,
   "id": "5be8fbf1-2919-4c19-a9e0-acc21710dd87",
   "metadata": {
    "tags": []
   },
   "outputs": [
    {
     "data": {
      "text/plain": [
       "['MAR09071', 'MAR04316', 'MAR09068', 'MAR09031', 'MAR04875', 'MAR03806']"
      ]
     },
     "execution_count": 102,
     "metadata": {},
     "output_type": "execute_result"
    }
   ],
   "source": [
    "set1 = set(hp_lp_mo_4_down)\n",
    "set2 = set(hp_lp_mo_24_down)\n",
    "set3 = set(hp_lp_mo_48_down)\n",
    "set4 = set(hp_lp_mo_72_down)\n",
    "\n",
    "common_elements = set1 & set2 & set3 # & set4\n",
    "\n",
    "common_elements_list = list(common_elements)\n",
    "\n",
    "common_elements_list"
   ]
  },
  {
   "cell_type": "code",
   "execution_count": 103,
   "id": "5a084eba-5201-43bf-9443-210aa2af61ad",
   "metadata": {},
   "outputs": [
    {
     "data": {
      "text/plain": [
       "['MAR09031', 'MAR04875', 'MAR09071']"
      ]
     },
     "execution_count": 103,
     "metadata": {},
     "output_type": "execute_result"
    }
   ],
   "source": [
    "common_elements = set1 & set2 & set3 & set4\n",
    "\n",
    "common_elements_list = list(common_elements)\n",
    "\n",
    "common_elements_list"
   ]
  },
  {
   "cell_type": "code",
   "execution_count": null,
   "id": "b811042e-4640-4477-b486-fff47b388fe7",
   "metadata": {},
   "outputs": [],
   "source": []
  },
  {
   "cell_type": "code",
   "execution_count": null,
   "id": "423da852-9658-4263-819a-ef8af4868e4f",
   "metadata": {},
   "outputs": [],
   "source": []
  }
 ],
 "metadata": {
  "kernelspec": {
   "display_name": "HEK_human1-python3.7-cplex",
   "language": "python",
   "name": "hek_human1"
  },
  "language_info": {
   "codemirror_mode": {
    "name": "ipython",
    "version": 3
   },
   "file_extension": ".py",
   "mimetype": "text/x-python",
   "name": "python",
   "nbconvert_exporter": "python",
   "pygments_lexer": "ipython3",
   "version": "3.7.11"
  }
 },
 "nbformat": 4,
 "nbformat_minor": 5
}
